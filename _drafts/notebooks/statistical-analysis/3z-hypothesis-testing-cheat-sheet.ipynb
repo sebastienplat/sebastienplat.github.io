{
 "cells": [
  {
   "source": [
    "# MODULES"
   ],
   "cell_type": "markdown",
   "metadata": {}
  },
  {
   "cell_type": "code",
   "execution_count": 2,
   "metadata": {},
   "outputs": [],
   "source": [
    "import numpy as np\n",
    "from scipy import stats\n",
    "import matplotlib.pyplot as plt\n",
    "\n",
    "import pandas as pd\n",
    "from statsmodels.formula.api import ols\n",
    "import statsmodels as sm\n",
    "\n",
    "from scipy.stats import chi2\n",
    "from scipy.stats import chisquare\n"
   ]
  },
  {
   "source": [
    "___\n",
    "\n",
    "# DIFFERENCE BETWEEN SAMPLES\n",
    "## Overview\n",
    "\n",
    "Comparing samples aims to determine if some characteristics of the population have an impact on the variable of interest. More specifically, we check if different values of some **categorical variable(s)** lead to **different probability distributions** for the variable of interest.\n",
    "\n",
    "<br></br>\n",
    "![png](../../img/stat_tests/stat_tests_diff_between_samples.png)\n"
   ],
   "cell_type": "markdown",
   "metadata": {}
  },
  {
   "source": [],
   "cell_type": "markdown",
   "metadata": {}
  },
  {
   "source": [
    "___\n",
    "\n",
    "# CORRELATION BETWEEN VARIABLES\n",
    "## Overview\n",
    "\n",
    "Correlation is the measure of dependance between **two continuous or ordinal variables**; It typically indicates their linear relationship, but more broadly measures how in sync they vary. This is expressed by their **covariance**. \n",
    "\n",
    "A more common measure is the **[Pearson product-moment correlation coefficient](https://en.wikipedia.org/wiki/Correlation_and_dependence#Pearson's_product-moment_coefficient)**, built on top of the covariance. It's akin to the standard variation vs the variance for bivariate data and represents how far the relationship is from the line of best fit.\n",
    "\n",
    "The correlation coefficient divides the covariance by the product of the standard deviations. This normalizes the covariance into a unit-less variable whose values are between -1 and +1.\n",
    "\n",
    "The line of best fit has a slope equal to the Pearson coefficient multiplied by SDy / SDx.\n",
    "\n",
    "<br></br>\n",
    "![png](../../img/stat_tests/stat_tests_correlation.png)\n"
   ],
   "cell_type": "markdown",
   "metadata": {}
  },
  {
   "cell_type": "markdown",
   "metadata": {},
   "source": [
    "___\n",
    "\n",
    "# MODELING\n",
    "## Overview\n",
    "\n",
    "Linear Regression:\n",
    "+ only incude variables that are correlated to the outcome.\n",
    "+ check for collinearity.\n",
    "\n",
    "<br></br>\n",
    "![png](../../img/stat_tests/stat_tests_modeling.png)\n"
   ]
  },
  {
   "source": [
    "___\n",
    "\n",
    "# CENTRAL LIMIT THEOREM (CLT)\n",
    "\n",
    "## Definition\n",
    "\n",
    "A group of samples having the same size $N$ will have mean values **normally distributed** around the population mean $\\mu$, regardless of the original distribution. This normal distribution has:\n",
    "+ the **same mean** $\\mu$ as the population.\n",
    "+ a standard deviation called **standard error** equal to $\\sigma / \\sqrt(n)$, where $\\sigma$ is the SD of the population.\n",
    "\n",
    "## Confidence Intervals\n",
    "\n",
    "Because the sampling distribution of sample statistic is **normally distributed**, 95% of all sample means fall within two standard errors of the actual population mean. In other words: we can say with a 95% confidence level that the **population parameter** lies within a confidence interval of plus-or-minus two standard errors of the **sample statistic**. \n",
    "\n",
    "Given some sample statistic $\\mu$ and the population parameter $\\mu_0$, there are three possible **alternate hypotheses**:\n",
    "\n",
    "| Left-tailed  | Two-sided     | Right-tailed    |\n",
    "|-----------------:|:-----------------:|:-------------------:|\n",
    "| $\\mu \\lt \\mu_0$ | $\\mu \\neq \\mu_0$   | $\\mu \\gt \\mu_0$     |\n",
    "\n",
    "The p-value being smaller than $\\alpha$ would mean that the sample statistic under $H_0$ is in the blue areas of the **sampling distribution of sample statistic**, depending on the alternate hypothesis.\n",
    "\n",
    "<br></br>\n",
    "<img class=\"center-block\" src=\"https://sebastienplat.s3.amazonaws.com/21a0a7a855f51f6426dfbf6115b872161490032937519\"/>\n",
    "\n",
    "_Note: for two-tailed tests, we use $\\alpha/2$ for each tail. This ensures the total probability of extreme values is $\\alpha$._\n",
    "\n",
    "## Z-Scores\n",
    "\n",
    "We can use two factors to assess the probability of observing the experimental results under the null hypothesis:\n",
    "+ The [**Z-score**](https://en.wikipedia.org/wiki/Standard_score) represents the number of standard deviations an observation is from the mean.\n",
    "+ The sampling distribution of sample statistic is centered around the population parameter and has a standard error linked to the population variance. \n",
    "\n",
    "It means that we can calculate the z-score of our sample statistic to calculate its p-value.\n"
   ],
   "cell_type": "markdown",
   "metadata": {}
  },
  {
   "source": [
    "___\n",
    "\n",
    "# Z-Tests\n",
    "\n",
    "+ Z-tests for mean serve the same purpose as ANOVA\n",
    "+ Z-tests for proportions serve the same purpose as chi-square tests\n",
    "\n",
    "Both tests compare a sample to a given population. Formally, the population SD needs to be known, but we can use a t-test with the sample standard deviation if not.\n",
    "\n",
    "## Mean Tests\n",
    "\n",
    "A **mean test** look for a specific value, typically the average of a population parameter. Its null hypothesis states that $\\mu = \\mu_0$.\n",
    "\n",
    "+ According to the CLT, the mean of our sample is part of a normal distribution centered around its population mean\n",
    "+ The null hypothesis states that the sample belongs to the initial population\n",
    "\n",
    "It means that we can calculate the position of the sample mean in the sampling distribution that follows $H_0$, provided we know the population standard deviation (see formula in code). \n",
    "\n",
    "We calculate its p-value based on the alternate hypothesis to draw our conclusions.\n"
   ],
   "cell_type": "markdown",
   "metadata": {}
  },
  {
   "cell_type": "code",
   "execution_count": 47,
   "metadata": {},
   "outputs": [
    {
     "name": "stdout",
     "output_type": "stream",
     "text": [
      "p-value: 1.2% > 1% cutoff\n"
     ]
    }
   ],
   "source": [
    "# example: test if a website redesign improved load time. H0: old_load >= new_load, alpha = 0.01\n",
    "# old_load_mean = 3.125, old_load_sd = 0.700\n",
    "# new_load_mean = 2.875, new_load_sample_size = 40\n",
    "# the sample mean of new_load_mean under H0 is in the 1.2% percentile, outside of our cutoff area: we fail to reject H0\n",
    "\n",
    "z_score = (2.875 - 3.125) / (0.700 / np.sqrt(40))\n",
    "print('p-value: {:.1%} > 1% cutoff'.format(stats.norm.cdf(x=z_score)))\n"
   ]
  }
 ],
 "metadata": {
  "kernelspec": {
   "name": "python3",
   "display_name": "Python 3.8.0 32-bit",
   "metadata": {
    "interpreter": {
     "hash": "aae8ee8694c59c72b15b6d3f40b32b92958c6b1dcd63d116167f24907625a630"
    }
   }
  },
  "language_info": {
   "codemirror_mode": {
    "name": "ipython",
    "version": 3
   },
   "file_extension": ".py",
   "mimetype": "text/x-python",
   "name": "python",
   "nbconvert_exporter": "python",
   "pygments_lexer": "ipython3",
   "version": "3.8.0-final"
  },
  "toc": {
   "base_numbering": 1,
   "nav_menu": {},
   "number_sections": false,
   "sideBar": true,
   "skip_h1_title": false,
   "title_cell": "Table of Contents",
   "title_sidebar": "Contents",
   "toc_cell": false,
   "toc_position": {
    "height": "calc(100% - 180px)",
    "left": "10px",
    "top": "150px",
    "width": "262px"
   },
   "toc_section_display": true,
   "toc_window_display": true
  }
 },
 "nbformat": 4,
 "nbformat_minor": 4
}