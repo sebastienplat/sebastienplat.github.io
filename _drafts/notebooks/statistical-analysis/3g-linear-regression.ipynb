{
 "metadata": {
  "language_info": {
   "codemirror_mode": {
    "name": "ipython",
    "version": 3
   },
   "file_extension": ".py",
   "mimetype": "text/x-python",
   "name": "python",
   "nbconvert_exporter": "python",
   "pygments_lexer": "ipython3",
   "version": "3.8.0-final"
  },
  "orig_nbformat": 2,
  "kernelspec": {
   "name": "python38032bit64a64ed7a47843b8be3706a54e9a0958",
   "display_name": "Python 3.8.0 32-bit"
  }
 },
 "nbformat": 4,
 "nbformat_minor": 2,
 "cells": [
  {
   "cell_type": "markdown",
   "metadata": {},
   "source": [
    "## Slope of regression line\n",
    "\n",
    "Let's consider a model $Y=\\alpha +\\beta x+\\epsilon$ where $\\alpha$ and $\\beta$ are unknown. Let $\\hat{\\alpha}$ and $\\hat{\\beta}$ be the least-square estimates; $SE_{\\alpha}$ and $SE_{\\beta}$ their standard errors. \n",
    "\n",
    "We can construct confidence intervals for the linear regression coefficients under assumptions of normality, which hold when:\n",
    "+ $\\epsilon$ is a normally distributed random variable with mean 0 and unknown variance $\\sigma^2$.\n",
    "+ the number of observations $n$ is sufficiently large, in which case the estimator is approximately normally distributed thanks to the CLT.\n",
    "\n",
    "In that case, $\\hat{\\beta}$ is normally distributed with mean $\\beta$ and standard error proportional to $\\sigma$. In practice, $\\sigma$ is unknown so we use the sum of square residuals (SSR) instead. The resulting variable follows a t-distribution with $n-2$ degrees of freedom:\n",
    "\n",
    "$$t_{slope} = \\frac { \\bar {\\beta} - \\beta }{SE_\\beta} \\sim t_{n-2}$$\n",
    "\n",
    "It followa that the $1-\\alpha$ confidence interval for the slope is: \n",
    "\n",
    "$$\\beta \\in \\hat{\\beta} \\pm t_{1-\\alpha/2, \\,n-2} \\, {SE_\\beta} $$\n",
    "\n",
    "\n",
    "The null hypothesis states that the slope $\\beta$ is equal to 0 (i.e. that x and Y are uncorrelated). We can reject $H_0$ if 0 is not in the confidence interval. Alternatively, the p-value is 2 * t_{slope} (two-tails one sample t-test).\n"
   ]
  }
 ]
}