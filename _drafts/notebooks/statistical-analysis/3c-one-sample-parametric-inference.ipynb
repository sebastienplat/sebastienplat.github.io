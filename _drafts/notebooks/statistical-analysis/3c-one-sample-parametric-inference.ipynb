{
 "metadata": {
  "language_info": {
   "codemirror_mode": {
    "name": "ipython",
    "version": 3
   },
   "file_extension": ".py",
   "mimetype": "text/x-python",
   "name": "python",
   "nbconvert_exporter": "python",
   "pygments_lexer": "ipython3",
   "version": "3.8.0-final"
  },
  "orig_nbformat": 2,
  "kernelspec": {
   "name": "python38032bit64a64ed7a47843b8be3706a54e9a0958",
   "display_name": "Python 3.8.0 32-bit",
   "language": "python"
  }
 },
 "nbformat": 4,
 "nbformat_minor": 2,
 "cells": [
  {
   "source": [
    "# MODULES\n"
   ],
   "cell_type": "markdown",
   "metadata": {}
  },
  {
   "cell_type": "code",
   "execution_count": 5,
   "metadata": {},
   "outputs": [],
   "source": [
    "import numpy as np\n",
    "from scipy import stats\n",
    "import matplotlib.pyplot as plt\n",
    "\n",
    "from sklearn import datasets\n",
    "import pandas as pd\n",
    "from statsmodels.formula.api import ols\n",
    "import statsmodels.api as sm\n",
    "\n",
    "from scipy.stats import chi2\n",
    "from scipy.stats import chisquare\n"
   ]
  },
  {
   "source": [
    "___\n",
    "\n",
    "# INFERENCE\n",
    "## Overview\n",
    "\n",
    "We can infer the value of the **population parameter** based on the sample statistics. Which parameter represents the population the best depends on the probability distribution.\n",
    "\n",
    "_Fisher & Chi-Squared tests measure the proportion of samples in different categories._\n",
    "\n",
    "<br></br>\n",
    "![png](../../img/stat_tests/stat_tests_inference.png)\n"
   ],
   "cell_type": "markdown",
   "metadata": {}
  },
  {
   "source": [
    "___\n",
    "\n",
    "# One-sample t-test\n",
    "## Assumptions\n",
    "\n",
    "The one-sample t-test is a direct application of the CLT with an unknown population variance so its assumptions are the same:\n",
    "+ the population is normally distributed, OR\n",
    "+ the sample is large, regardless of the underlying distribution of data, thanks to the CLT.\n",
    "\n",
    "\n",
    "## Test Parameters\n",
    "\n",
    "_Note: The one-sample t-test is a direct application of the CLT with an unknown population variance._\n",
    "\n",
    "The null hypothesis $H_0$ states that the population mean is equal to a specified value $\\mu_0$. \n",
    "\n",
    "Our test statistic is \n",
    "$t={\\frac {{\\bar {X}}-\\mu_0 }{{\\widehat {\\sigma }}/{\\sqrt {n}}}}$\n",
    "where $\\bar {X}$ is the sample mean, $\\widehat {\\sigma}^2$ its unbiased variance and $n$ its size.\n",
    "\n",
    "Under the null hypothesis, the test statistic follows a $t$-distribution with $n-1$ degrees of freedom. \n"
   ],
   "cell_type": "markdown",
   "metadata": {}
  },
  {
   "source": [
    "\n",
    "There are three possible **alternate hypotheses**:\n",
    "\n",
    "| Left-tailed  | Two-sided     | Right-tailed    |\n",
    "|-----------------:|:-----------------:|:-------------------:|\n",
    "| $\\bar {X} \\lt \\mu_0$ | $\\bar {X} \\neq \\mu_0$   | $\\bar {X} \\gt \\mu_0$     |\n",
    "\n",
    "The p-value being smaller than $\\alpha$ would mean that the sample statistic under $H_0$ is in the blue areas of the **sampling distribution of sample statistic**, depending on the alternate hypothesis.\n",
    "\n",
    "<br></br>\n",
    "<img class=\"center-block\" src=\"https://sebastienplat.s3.amazonaws.com/21a0a7a855f51f6426dfbf6115b872161490032937519\"/>\n",
    "\n",
    "_Note: for two-tailed tests, we use $\\alpha/2$ for each tail. This ensures the total probability of extreme values is $\\alpha$._\n"
   ],
   "cell_type": "markdown",
   "metadata": {}
  },
  {
   "source": [
    "# Example - Iris Versicolor\n",
    "\n",
    "Going back to iris species, let's perform a t-test to check if the mean of the versicolor species can plausibly be outside of its 95% confidence interval; by construction, we know that it is highly unlikely, which should be reflected in the results of our test.\n",
    "\n",
    "\n",
    "## Assumptions of Normality\n",
    "\n",
    "We saw in previous chapters that the sample data is roughly normal. Even if it wasn't the case, the sample size is large enough that the assumptions of normality required by the t-tests are met.\n",
    "\n",
    "\n",
    "## Hypothesis\n",
    "\n",
    "The 95% confidence interval for the mean of the versicolor species is \\[4.128, 4.392\\]. \n",
    "We will perform a t-test with the following parameters:\n",
    "+ our null hypothesis states that the population mean $\\mu = 4.4cm$, just outside of it. \n",
    "+ our alternate hypothesis states that $\\mu \\neq 4.4cm$ (two-sided t-test).\n",
    "+ we set the signifance level $\\alpha = 0.05$.\n",
    "\n",
    "We will reject the null hypothesis if the p-value is below $\\alpha$. \n",
    "\n",
    "\n",
    "## Manual t-test\n",
    "\n",
    "We start by calculating the t-test manually, using the CLT for populations of unknown variance. The results show that the p-value is below alpha, so we reject the null hypothesis: we conclude that the population mean is different from 4.4cm.\n"
   ],
   "cell_type": "markdown",
   "metadata": {}
  },
  {
   "cell_type": "code",
   "execution_count": 72,
   "metadata": {},
   "outputs": [
    {
     "output_type": "stream",
     "name": "stdout",
     "text": [
      "test stat: -2.107; two-sided p-value: 0.040\n"
     ]
    },
    {
     "output_type": "display_data",
     "data": {
      "text/plain": "<Figure size 432x288 with 1 Axes>",
      "image/svg+xml": "<?xml version=\"1.0\" encoding=\"utf-8\" standalone=\"no\"?>\r\n<!DOCTYPE svg PUBLIC \"-//W3C//DTD SVG 1.1//EN\"\r\n  \"http://www.w3.org/Graphics/SVG/1.1/DTD/svg11.dtd\">\r\n<!-- Created with matplotlib (https://matplotlib.org/) -->\r\n<svg height=\"248.518125pt\" version=\"1.1\" viewBox=\"0 0 378.465625 248.518125\" width=\"378.465625pt\" xmlns=\"http://www.w3.org/2000/svg\" xmlns:xlink=\"http://www.w3.org/1999/xlink\">\r\n <defs>\r\n  <style type=\"text/css\">\r\n*{stroke-linecap:butt;stroke-linejoin:round;}\r\n  </style>\r\n </defs>\r\n <g id=\"figure_1\">\r\n  <g id=\"patch_1\">\r\n   <path d=\"M 0 248.518125 \r\nL 378.465625 248.518125 \r\nL 378.465625 0 \r\nL 0 0 \r\nz\r\n\" style=\"fill:none;\"/>\r\n  </g>\r\n  <g id=\"axes_1\">\r\n   <g id=\"patch_2\">\r\n    <path d=\"M 36.465625 224.64 \r\nL 371.265625 224.64 \r\nL 371.265625 7.2 \r\nL 36.465625 7.2 \r\nz\r\n\" style=\"fill:#ffffff;\"/>\r\n   </g>\r\n   <g id=\"matplotlib.axis_1\">\r\n    <g id=\"xtick_1\">\r\n     <g id=\"line2d_1\">\r\n      <defs>\r\n       <path d=\"M 0 0 \r\nL 0 3.5 \r\n\" id=\"m592f9ced38\" style=\"stroke:#000000;stroke-width:0.8;\"/>\r\n      </defs>\r\n      <g>\r\n       <use style=\"stroke:#000000;stroke-width:0.8;\" x=\"82.12017\" xlink:href=\"#m592f9ced38\" y=\"224.64\"/>\r\n      </g>\r\n     </g>\r\n     <g id=\"text_1\">\r\n      <!-- −4 -->\r\n      <defs>\r\n       <path d=\"M 10.59375 35.5 \r\nL 73.1875 35.5 \r\nL 73.1875 27.203125 \r\nL 10.59375 27.203125 \r\nz\r\n\" id=\"DejaVuSans-8722\"/>\r\n       <path d=\"M 37.796875 64.3125 \r\nL 12.890625 25.390625 \r\nL 37.796875 25.390625 \r\nz\r\nM 35.203125 72.90625 \r\nL 47.609375 72.90625 \r\nL 47.609375 25.390625 \r\nL 58.015625 25.390625 \r\nL 58.015625 17.1875 \r\nL 47.609375 17.1875 \r\nL 47.609375 0 \r\nL 37.796875 0 \r\nL 37.796875 17.1875 \r\nL 4.890625 17.1875 \r\nL 4.890625 26.703125 \r\nz\r\n\" id=\"DejaVuSans-52\"/>\r\n      </defs>\r\n      <g transform=\"translate(74.749077 239.238437)scale(0.1 -0.1)\">\r\n       <use xlink:href=\"#DejaVuSans-8722\"/>\r\n       <use x=\"83.789062\" xlink:href=\"#DejaVuSans-52\"/>\r\n      </g>\r\n     </g>\r\n    </g>\r\n    <g id=\"xtick_2\">\r\n     <g id=\"line2d_2\">\r\n      <g>\r\n       <use style=\"stroke:#000000;stroke-width:0.8;\" x=\"142.992898\" xlink:href=\"#m592f9ced38\" y=\"224.64\"/>\r\n      </g>\r\n     </g>\r\n     <g id=\"text_2\">\r\n      <!-- −2 -->\r\n      <defs>\r\n       <path d=\"M 19.1875 8.296875 \r\nL 53.609375 8.296875 \r\nL 53.609375 0 \r\nL 7.328125 0 \r\nL 7.328125 8.296875 \r\nQ 12.9375 14.109375 22.625 23.890625 \r\nQ 32.328125 33.6875 34.8125 36.53125 \r\nQ 39.546875 41.84375 41.421875 45.53125 \r\nQ 43.3125 49.21875 43.3125 52.78125 \r\nQ 43.3125 58.59375 39.234375 62.25 \r\nQ 35.15625 65.921875 28.609375 65.921875 \r\nQ 23.96875 65.921875 18.8125 64.3125 \r\nQ 13.671875 62.703125 7.8125 59.421875 \r\nL 7.8125 69.390625 \r\nQ 13.765625 71.78125 18.9375 73 \r\nQ 24.125 74.21875 28.421875 74.21875 \r\nQ 39.75 74.21875 46.484375 68.546875 \r\nQ 53.21875 62.890625 53.21875 53.421875 \r\nQ 53.21875 48.921875 51.53125 44.890625 \r\nQ 49.859375 40.875 45.40625 35.40625 \r\nQ 44.1875 33.984375 37.640625 27.21875 \r\nQ 31.109375 20.453125 19.1875 8.296875 \r\nz\r\n\" id=\"DejaVuSans-50\"/>\r\n      </defs>\r\n      <g transform=\"translate(135.621804 239.238437)scale(0.1 -0.1)\">\r\n       <use xlink:href=\"#DejaVuSans-8722\"/>\r\n       <use x=\"83.789062\" xlink:href=\"#DejaVuSans-50\"/>\r\n      </g>\r\n     </g>\r\n    </g>\r\n    <g id=\"xtick_3\">\r\n     <g id=\"line2d_3\">\r\n      <g>\r\n       <use style=\"stroke:#000000;stroke-width:0.8;\" x=\"203.865625\" xlink:href=\"#m592f9ced38\" y=\"224.64\"/>\r\n      </g>\r\n     </g>\r\n     <g id=\"text_3\">\r\n      <!-- 0 -->\r\n      <defs>\r\n       <path d=\"M 31.78125 66.40625 \r\nQ 24.171875 66.40625 20.328125 58.90625 \r\nQ 16.5 51.421875 16.5 36.375 \r\nQ 16.5 21.390625 20.328125 13.890625 \r\nQ 24.171875 6.390625 31.78125 6.390625 \r\nQ 39.453125 6.390625 43.28125 13.890625 \r\nQ 47.125 21.390625 47.125 36.375 \r\nQ 47.125 51.421875 43.28125 58.90625 \r\nQ 39.453125 66.40625 31.78125 66.40625 \r\nz\r\nM 31.78125 74.21875 \r\nQ 44.046875 74.21875 50.515625 64.515625 \r\nQ 56.984375 54.828125 56.984375 36.375 \r\nQ 56.984375 17.96875 50.515625 8.265625 \r\nQ 44.046875 -1.421875 31.78125 -1.421875 \r\nQ 19.53125 -1.421875 13.0625 8.265625 \r\nQ 6.59375 17.96875 6.59375 36.375 \r\nQ 6.59375 54.828125 13.0625 64.515625 \r\nQ 19.53125 74.21875 31.78125 74.21875 \r\nz\r\n\" id=\"DejaVuSans-48\"/>\r\n      </defs>\r\n      <g transform=\"translate(200.684375 239.238437)scale(0.1 -0.1)\">\r\n       <use xlink:href=\"#DejaVuSans-48\"/>\r\n      </g>\r\n     </g>\r\n    </g>\r\n    <g id=\"xtick_4\">\r\n     <g id=\"line2d_4\">\r\n      <g>\r\n       <use style=\"stroke:#000000;stroke-width:0.8;\" x=\"264.738352\" xlink:href=\"#m592f9ced38\" y=\"224.64\"/>\r\n      </g>\r\n     </g>\r\n     <g id=\"text_4\">\r\n      <!-- 2 -->\r\n      <g transform=\"translate(261.557102 239.238437)scale(0.1 -0.1)\">\r\n       <use xlink:href=\"#DejaVuSans-50\"/>\r\n      </g>\r\n     </g>\r\n    </g>\r\n    <g id=\"xtick_5\">\r\n     <g id=\"line2d_5\">\r\n      <g>\r\n       <use style=\"stroke:#000000;stroke-width:0.8;\" x=\"325.61108\" xlink:href=\"#m592f9ced38\" y=\"224.64\"/>\r\n      </g>\r\n     </g>\r\n     <g id=\"text_5\">\r\n      <!-- 4 -->\r\n      <g transform=\"translate(322.42983 239.238437)scale(0.1 -0.1)\">\r\n       <use xlink:href=\"#DejaVuSans-52\"/>\r\n      </g>\r\n     </g>\r\n    </g>\r\n   </g>\r\n   <g id=\"matplotlib.axis_2\">\r\n    <g id=\"ytick_1\">\r\n     <g id=\"line2d_6\">\r\n      <defs>\r\n       <path d=\"M 0 0 \r\nL -3.5 0 \r\n\" id=\"m1550c5cf89\" style=\"stroke:#000000;stroke-width:0.8;\"/>\r\n      </defs>\r\n      <g>\r\n       <use style=\"stroke:#000000;stroke-width:0.8;\" x=\"36.465625\" xlink:href=\"#m1550c5cf89\" y=\"214.756364\"/>\r\n      </g>\r\n     </g>\r\n     <g id=\"text_6\">\r\n      <!-- 0.00 -->\r\n      <defs>\r\n       <path d=\"M 10.6875 12.40625 \r\nL 21 12.40625 \r\nL 21 0 \r\nL 10.6875 0 \r\nz\r\n\" id=\"DejaVuSans-46\"/>\r\n      </defs>\r\n      <g transform=\"translate(7.2 218.555582)scale(0.1 -0.1)\">\r\n       <use xlink:href=\"#DejaVuSans-48\"/>\r\n       <use x=\"63.623047\" xlink:href=\"#DejaVuSans-46\"/>\r\n       <use x=\"95.410156\" xlink:href=\"#DejaVuSans-48\"/>\r\n       <use x=\"159.033203\" xlink:href=\"#DejaVuSans-48\"/>\r\n      </g>\r\n     </g>\r\n    </g>\r\n    <g id=\"ytick_2\">\r\n     <g id=\"line2d_7\">\r\n      <g>\r\n       <use style=\"stroke:#000000;stroke-width:0.8;\" x=\"36.465625\" xlink:href=\"#m1550c5cf89\" y=\"190.047273\"/>\r\n      </g>\r\n     </g>\r\n     <g id=\"text_7\">\r\n      <!-- 0.05 -->\r\n      <defs>\r\n       <path d=\"M 10.796875 72.90625 \r\nL 49.515625 72.90625 \r\nL 49.515625 64.59375 \r\nL 19.828125 64.59375 \r\nL 19.828125 46.734375 \r\nQ 21.96875 47.46875 24.109375 47.828125 \r\nQ 26.265625 48.1875 28.421875 48.1875 \r\nQ 40.625 48.1875 47.75 41.5 \r\nQ 54.890625 34.8125 54.890625 23.390625 \r\nQ 54.890625 11.625 47.5625 5.09375 \r\nQ 40.234375 -1.421875 26.90625 -1.421875 \r\nQ 22.3125 -1.421875 17.546875 -0.640625 \r\nQ 12.796875 0.140625 7.71875 1.703125 \r\nL 7.71875 11.625 \r\nQ 12.109375 9.234375 16.796875 8.0625 \r\nQ 21.484375 6.890625 26.703125 6.890625 \r\nQ 35.15625 6.890625 40.078125 11.328125 \r\nQ 45.015625 15.765625 45.015625 23.390625 \r\nQ 45.015625 31 40.078125 35.4375 \r\nQ 35.15625 39.890625 26.703125 39.890625 \r\nQ 22.75 39.890625 18.8125 39.015625 \r\nQ 14.890625 38.140625 10.796875 36.28125 \r\nz\r\n\" id=\"DejaVuSans-53\"/>\r\n      </defs>\r\n      <g transform=\"translate(7.2 193.846491)scale(0.1 -0.1)\">\r\n       <use xlink:href=\"#DejaVuSans-48\"/>\r\n       <use x=\"63.623047\" xlink:href=\"#DejaVuSans-46\"/>\r\n       <use x=\"95.410156\" xlink:href=\"#DejaVuSans-48\"/>\r\n       <use x=\"159.033203\" xlink:href=\"#DejaVuSans-53\"/>\r\n      </g>\r\n     </g>\r\n    </g>\r\n    <g id=\"ytick_3\">\r\n     <g id=\"line2d_8\">\r\n      <g>\r\n       <use style=\"stroke:#000000;stroke-width:0.8;\" x=\"36.465625\" xlink:href=\"#m1550c5cf89\" y=\"165.338182\"/>\r\n      </g>\r\n     </g>\r\n     <g id=\"text_8\">\r\n      <!-- 0.10 -->\r\n      <defs>\r\n       <path d=\"M 12.40625 8.296875 \r\nL 28.515625 8.296875 \r\nL 28.515625 63.921875 \r\nL 10.984375 60.40625 \r\nL 10.984375 69.390625 \r\nL 28.421875 72.90625 \r\nL 38.28125 72.90625 \r\nL 38.28125 8.296875 \r\nL 54.390625 8.296875 \r\nL 54.390625 0 \r\nL 12.40625 0 \r\nz\r\n\" id=\"DejaVuSans-49\"/>\r\n      </defs>\r\n      <g transform=\"translate(7.2 169.137401)scale(0.1 -0.1)\">\r\n       <use xlink:href=\"#DejaVuSans-48\"/>\r\n       <use x=\"63.623047\" xlink:href=\"#DejaVuSans-46\"/>\r\n       <use x=\"95.410156\" xlink:href=\"#DejaVuSans-49\"/>\r\n       <use x=\"159.033203\" xlink:href=\"#DejaVuSans-48\"/>\r\n      </g>\r\n     </g>\r\n    </g>\r\n    <g id=\"ytick_4\">\r\n     <g id=\"line2d_9\">\r\n      <g>\r\n       <use style=\"stroke:#000000;stroke-width:0.8;\" x=\"36.465625\" xlink:href=\"#m1550c5cf89\" y=\"140.629091\"/>\r\n      </g>\r\n     </g>\r\n     <g id=\"text_9\">\r\n      <!-- 0.15 -->\r\n      <g transform=\"translate(7.2 144.42831)scale(0.1 -0.1)\">\r\n       <use xlink:href=\"#DejaVuSans-48\"/>\r\n       <use x=\"63.623047\" xlink:href=\"#DejaVuSans-46\"/>\r\n       <use x=\"95.410156\" xlink:href=\"#DejaVuSans-49\"/>\r\n       <use x=\"159.033203\" xlink:href=\"#DejaVuSans-53\"/>\r\n      </g>\r\n     </g>\r\n    </g>\r\n    <g id=\"ytick_5\">\r\n     <g id=\"line2d_10\">\r\n      <g>\r\n       <use style=\"stroke:#000000;stroke-width:0.8;\" x=\"36.465625\" xlink:href=\"#m1550c5cf89\" y=\"115.92\"/>\r\n      </g>\r\n     </g>\r\n     <g id=\"text_10\">\r\n      <!-- 0.20 -->\r\n      <g transform=\"translate(7.2 119.719219)scale(0.1 -0.1)\">\r\n       <use xlink:href=\"#DejaVuSans-48\"/>\r\n       <use x=\"63.623047\" xlink:href=\"#DejaVuSans-46\"/>\r\n       <use x=\"95.410156\" xlink:href=\"#DejaVuSans-50\"/>\r\n       <use x=\"159.033203\" xlink:href=\"#DejaVuSans-48\"/>\r\n      </g>\r\n     </g>\r\n    </g>\r\n    <g id=\"ytick_6\">\r\n     <g id=\"line2d_11\">\r\n      <g>\r\n       <use style=\"stroke:#000000;stroke-width:0.8;\" x=\"36.465625\" xlink:href=\"#m1550c5cf89\" y=\"91.210909\"/>\r\n      </g>\r\n     </g>\r\n     <g id=\"text_11\">\r\n      <!-- 0.25 -->\r\n      <g transform=\"translate(7.2 95.010128)scale(0.1 -0.1)\">\r\n       <use xlink:href=\"#DejaVuSans-48\"/>\r\n       <use x=\"63.623047\" xlink:href=\"#DejaVuSans-46\"/>\r\n       <use x=\"95.410156\" xlink:href=\"#DejaVuSans-50\"/>\r\n       <use x=\"159.033203\" xlink:href=\"#DejaVuSans-53\"/>\r\n      </g>\r\n     </g>\r\n    </g>\r\n    <g id=\"ytick_7\">\r\n     <g id=\"line2d_12\">\r\n      <g>\r\n       <use style=\"stroke:#000000;stroke-width:0.8;\" x=\"36.465625\" xlink:href=\"#m1550c5cf89\" y=\"66.501818\"/>\r\n      </g>\r\n     </g>\r\n     <g id=\"text_12\">\r\n      <!-- 0.30 -->\r\n      <defs>\r\n       <path d=\"M 40.578125 39.3125 \r\nQ 47.65625 37.796875 51.625 33 \r\nQ 55.609375 28.21875 55.609375 21.1875 \r\nQ 55.609375 10.40625 48.1875 4.484375 \r\nQ 40.765625 -1.421875 27.09375 -1.421875 \r\nQ 22.515625 -1.421875 17.65625 -0.515625 \r\nQ 12.796875 0.390625 7.625 2.203125 \r\nL 7.625 11.71875 \r\nQ 11.71875 9.328125 16.59375 8.109375 \r\nQ 21.484375 6.890625 26.8125 6.890625 \r\nQ 36.078125 6.890625 40.9375 10.546875 \r\nQ 45.796875 14.203125 45.796875 21.1875 \r\nQ 45.796875 27.640625 41.28125 31.265625 \r\nQ 36.765625 34.90625 28.71875 34.90625 \r\nL 20.21875 34.90625 \r\nL 20.21875 43.015625 \r\nL 29.109375 43.015625 \r\nQ 36.375 43.015625 40.234375 45.921875 \r\nQ 44.09375 48.828125 44.09375 54.296875 \r\nQ 44.09375 59.90625 40.109375 62.90625 \r\nQ 36.140625 65.921875 28.71875 65.921875 \r\nQ 24.65625 65.921875 20.015625 65.03125 \r\nQ 15.375 64.15625 9.8125 62.3125 \r\nL 9.8125 71.09375 \r\nQ 15.4375 72.65625 20.34375 73.4375 \r\nQ 25.25 74.21875 29.59375 74.21875 \r\nQ 40.828125 74.21875 47.359375 69.109375 \r\nQ 53.90625 64.015625 53.90625 55.328125 \r\nQ 53.90625 49.265625 50.4375 45.09375 \r\nQ 46.96875 40.921875 40.578125 39.3125 \r\nz\r\n\" id=\"DejaVuSans-51\"/>\r\n      </defs>\r\n      <g transform=\"translate(7.2 70.301037)scale(0.1 -0.1)\">\r\n       <use xlink:href=\"#DejaVuSans-48\"/>\r\n       <use x=\"63.623047\" xlink:href=\"#DejaVuSans-46\"/>\r\n       <use x=\"95.410156\" xlink:href=\"#DejaVuSans-51\"/>\r\n       <use x=\"159.033203\" xlink:href=\"#DejaVuSans-48\"/>\r\n      </g>\r\n     </g>\r\n    </g>\r\n    <g id=\"ytick_8\">\r\n     <g id=\"line2d_13\">\r\n      <g>\r\n       <use style=\"stroke:#000000;stroke-width:0.8;\" x=\"36.465625\" xlink:href=\"#m1550c5cf89\" y=\"41.792727\"/>\r\n      </g>\r\n     </g>\r\n     <g id=\"text_13\">\r\n      <!-- 0.35 -->\r\n      <g transform=\"translate(7.2 45.591946)scale(0.1 -0.1)\">\r\n       <use xlink:href=\"#DejaVuSans-48\"/>\r\n       <use x=\"63.623047\" xlink:href=\"#DejaVuSans-46\"/>\r\n       <use x=\"95.410156\" xlink:href=\"#DejaVuSans-51\"/>\r\n       <use x=\"159.033203\" xlink:href=\"#DejaVuSans-53\"/>\r\n      </g>\r\n     </g>\r\n    </g>\r\n    <g id=\"ytick_9\">\r\n     <g id=\"line2d_14\">\r\n      <g>\r\n       <use style=\"stroke:#000000;stroke-width:0.8;\" x=\"36.465625\" xlink:href=\"#m1550c5cf89\" y=\"17.083636\"/>\r\n      </g>\r\n     </g>\r\n     <g id=\"text_14\">\r\n      <!-- 0.40 -->\r\n      <g transform=\"translate(7.2 20.882855)scale(0.1 -0.1)\">\r\n       <use xlink:href=\"#DejaVuSans-48\"/>\r\n       <use x=\"63.623047\" xlink:href=\"#DejaVuSans-46\"/>\r\n       <use x=\"95.410156\" xlink:href=\"#DejaVuSans-52\"/>\r\n       <use x=\"159.033203\" xlink:href=\"#DejaVuSans-48\"/>\r\n      </g>\r\n     </g>\r\n    </g>\r\n   </g>\r\n   <g id=\"LineCollection_1\">\r\n    <path clip-path=\"url(#p80d1d7a769)\" d=\"M 139.746113 214.756364 \r\nL 139.746113 17.083636 \r\n\" style=\"fill:none;stroke:#ff0000;stroke-width:1.5;\"/>\r\n   </g>\r\n   <g id=\"line2d_15\">\r\n    <path clip-path=\"url(#p80d1d7a769)\" d=\"M 51.683807 214.749807 \r\nL 54.758187 214.747151 \r\nL 57.832567 214.74345 \r\nL 60.906947 214.738308 \r\nL 63.981327 214.731187 \r\nL 67.055708 214.72136 \r\nL 70.130088 214.707846 \r\nL 73.204468 214.689333 \r\nL 76.278848 214.664072 \r\nL 79.353228 214.629751 \r\nL 82.427608 214.583327 \r\nL 85.501989 214.520826 \r\nL 88.576369 214.437095 \r\nL 91.650749 214.325501 \r\nL 94.725129 214.177576 \r\nL 97.799509 213.982602 \r\nL 100.873889 213.727138 \r\nL 103.94827 213.394488 \r\nL 107.02265 212.964132 \r\nL 110.09703 212.411126 \r\nL 113.17141 211.705513 \r\nL 116.24579 210.811775 \r\nL 119.32017 209.688395 \r\nL 122.394551 208.28758 \r\nL 125.468931 206.555243 \r\nL 128.543311 204.431336 \r\nL 131.617691 201.850615 \r\nL 134.692071 198.74396 \r\nL 137.766451 195.040322 \r\nL 140.840832 190.66936 \r\nL 143.915212 185.564799 \r\nL 146.989592 179.668483 \r\nL 150.063972 172.935027 \r\nL 153.138352 165.336902 \r\nL 156.212732 156.869702 \r\nL 159.287113 147.557266 \r\nL 162.361493 137.456246 \r\nL 165.435873 126.659696 \r\nL 168.510253 115.299208 \r\nL 171.584633 103.545192 \r\nL 174.659013 91.604929 \r\nL 177.733394 79.718208 \r\nL 180.807774 68.15047 \r\nL 183.882154 57.183637 \r\nL 186.956534 47.104976 \r\nL 190.030914 38.194585 \r\nL 193.105294 30.712251 \r\nL 196.179675 24.884541 \r\nL 199.254055 20.893048 \r\nL 202.328435 18.864673 \r\nL 205.402815 18.864673 \r\nL 208.477195 20.893048 \r\nL 211.551575 24.884541 \r\nL 214.625956 30.712251 \r\nL 217.700336 38.194585 \r\nL 220.774716 47.104976 \r\nL 223.849096 57.183637 \r\nL 226.923476 68.15047 \r\nL 229.997856 79.718208 \r\nL 233.072237 91.604929 \r\nL 236.146617 103.545192 \r\nL 239.220997 115.299208 \r\nL 242.295377 126.659696 \r\nL 245.369757 137.456246 \r\nL 248.444137 147.557266 \r\nL 251.518518 156.869702 \r\nL 254.592898 165.336902 \r\nL 257.667278 172.935027 \r\nL 260.741658 179.668483 \r\nL 263.816038 185.564799 \r\nL 266.890418 190.66936 \r\nL 269.964799 195.040322 \r\nL 273.039179 198.74396 \r\nL 276.113559 201.850615 \r\nL 279.187939 204.431336 \r\nL 282.262319 206.555243 \r\nL 285.336699 208.28758 \r\nL 288.41108 209.688395 \r\nL 291.48546 210.811775 \r\nL 294.55984 211.705513 \r\nL 297.63422 212.411126 \r\nL 300.7086 212.964132 \r\nL 303.78298 213.394488 \r\nL 306.857361 213.727138 \r\nL 309.931741 213.982602 \r\nL 313.006121 214.177576 \r\nL 316.080501 214.325501 \r\nL 319.154881 214.437095 \r\nL 322.229261 214.520826 \r\nL 325.303642 214.583327 \r\nL 328.378022 214.629751 \r\nL 331.452402 214.664072 \r\nL 334.526782 214.689333 \r\nL 337.601162 214.707846 \r\nL 340.675542 214.72136 \r\nL 343.749923 214.731187 \r\nL 346.824303 214.738308 \r\nL 349.898683 214.74345 \r\nL 352.973063 214.747151 \r\nL 356.047443 214.749807 \r\n\" style=\"fill:none;stroke:#1f77b4;stroke-linecap:square;stroke-width:1.5;\"/>\r\n   </g>\r\n   <g id=\"patch_3\">\r\n    <path d=\"M 36.465625 224.64 \r\nL 36.465625 7.2 \r\n\" style=\"fill:none;stroke:#000000;stroke-linecap:square;stroke-linejoin:miter;stroke-width:0.8;\"/>\r\n   </g>\r\n   <g id=\"patch_4\">\r\n    <path d=\"M 371.265625 224.64 \r\nL 371.265625 7.2 \r\n\" style=\"fill:none;stroke:#000000;stroke-linecap:square;stroke-linejoin:miter;stroke-width:0.8;\"/>\r\n   </g>\r\n   <g id=\"patch_5\">\r\n    <path d=\"M 36.465625 224.64 \r\nL 371.265625 224.64 \r\n\" style=\"fill:none;stroke:#000000;stroke-linecap:square;stroke-linejoin:miter;stroke-width:0.8;\"/>\r\n   </g>\r\n   <g id=\"patch_6\">\r\n    <path d=\"M 36.465625 7.2 \r\nL 371.265625 7.2 \r\n\" style=\"fill:none;stroke:#000000;stroke-linecap:square;stroke-linejoin:miter;stroke-width:0.8;\"/>\r\n   </g>\r\n  </g>\r\n </g>\r\n <defs>\r\n  <clipPath id=\"p80d1d7a769\">\r\n   <rect height=\"217.44\" width=\"334.8\" x=\"36.465625\" y=\"7.2\"/>\r\n  </clipPath>\r\n </defs>\r\n</svg>\r\n",
      "image/png": "[encoded data removed]"
     },
     "metadata": {
      "needs_background": "light"
     }
    }
   ],
   "source": [
    "# what follows give the same results as stats.ttest_1samp(sample, popmean)\n",
    "\n",
    "# load & format iris dataset\n",
    "iris = datasets.load_iris()\n",
    "iris_df = pd.DataFrame(iris.data, columns = iris.feature_names)\n",
    "iris_df['species'] = [iris.target_names[i] for i in iris.target]\n",
    "\n",
    "# petal lenghts of versicolors\n",
    "sample = iris_df.loc[iris_df['species'] == 'versicolor', 'petal length (cm)'].to_numpy()\n",
    "\n",
    "# the 95% CI for the mean of versicolor is [4.128, 4.26, 4.392]. Let's try with a value outside of this CI.\n",
    "popmean = 4.4\n",
    "\n",
    "# sample values\n",
    "sample_size = len(sample)\n",
    "sample_mean = np.mean(sample)\n",
    "sample_var = np.var(sample, ddof=1) # ddof=1 for unbiased variance\n",
    "sample_se = np.sqrt(sample_var / sample_size)\n",
    "\n",
    "# test statistic\n",
    "sample_t = (sample_mean - popmean) / sample_se\n",
    "\n",
    "# dist of test statistic under H0\n",
    "null_sampling_dist = stats.t(df=sample_size - 1)\n",
    "\n",
    "# likelihood of having a value at least as extreme (two-sided so 2*)\n",
    "sample_p = 2 * null_sampling_dist.cdf(sample_t)\n",
    "\n",
    "# return the test statistic and p-value\n",
    "print('test stat: {:0.3f}; two-sided p-value: {:0.3f}'.format(sample_t, sample_p))\n",
    "\n",
    "# show dist of test statistic under H0 vs sample test statistic\n",
    "x = np.linspace(-5, 5, 100)\n",
    "_ = plt.plot(x, null_sampling_dist.pdf(x))\n",
    "_ = plt.vlines(x=sample_t, ymin=0, ymax=0.4, color='r')\n"
   ]
  },
  {
   "source": [
    "## Built-in t-test\n",
    "\n",
    "We can use the built-in function to reach the exact same results:\n"
   ],
   "cell_type": "markdown",
   "metadata": {}
  },
  {
   "cell_type": "code",
   "execution_count": 21,
   "metadata": {},
   "outputs": [
    {
     "output_type": "stream",
     "name": "stdout",
     "text": [
      "test stat: -2.107; two-sided p-value: 0.040\n"
     ]
    }
   ],
   "source": [
    "# stats t-test\n",
    "sample_t, sample_p = stats.ttest_1samp(sample, popmean)\n",
    "print('test stat: {:0.3f}; two-sided p-value: {:0.3f}'.format(sample_t, sample_p))\n"
   ]
  },
  {
   "source": [
    "## Effect Size\n",
    "\n",
    "We can now quantify the normalized effect size we wanted to test, using the formula for cohen's d; The results show that the effect size is fairly small.\n"
   ],
   "cell_type": "markdown",
   "metadata": {}
  },
  {
   "cell_type": "code",
   "execution_count": 73,
   "metadata": {},
   "outputs": [
    {
     "output_type": "stream",
     "name": "stdout",
     "text": [
      "difference in mean: -0.140; cohen's d: -0.298\n"
     ]
    }
   ],
   "source": [
    "# effect size (cohen's d)\n",
    "sample_diff = sample_mean - popmean\n",
    "sample_cohen_d = sample_diff / np.sqrt(sample_var)\n",
    "\n",
    "print('difference in mean: {:.3f}; cohen\\'s d: {:.3f}'.format(sample_diff, sample_cohen_d))\n"
   ]
  },
  {
   "source": [
    "## Statistical Power\n",
    "\n",
    "The t-test is statistically significant, which means there are no risks of Type II errors (incorrectly failing to reject a null hypothesis). But both the effect size and sample size are quite small, so its statistical power is quite small too, as illustrated by the calculation below.\n",
    "\n"
   ],
   "cell_type": "markdown",
   "metadata": {}
  },
  {
   "cell_type": "code",
   "execution_count": 74,
   "metadata": {},
   "outputs": [
    {
     "output_type": "stream",
     "name": "stdout",
     "text": [
      "power of the t-test (alpha=0.05): 54%\n"
     ]
    }
   ],
   "source": [
    "# calculate power\n",
    "test_power = sm.stats.tt_solve_power(effect_size=sample_cohen_d, nobs=sample_size, alpha=0.05)\n",
    "print('power of the t-test (alpha=0.05): {:0.0%}'.format(test_power))\n"
   ]
  },
  {
   "source": [
    "## Sample Size vs Effect Size\n",
    "\n",
    "Let's assume that we wanted to design the experiment before collecting any data. Calculating the relevant normalized effect size can prove difficult: we used the sample mean and variance to calculate it in our example, which would not be available before running the experiment.\n",
    "\n",
    "We can use the litterature and previous experiments to help us figure out a meaningful effect size. Let's assume for instance that we already collected sample data for the iris species virginica, that we know its distribution is close to versicolor, and that we want to detect a difference of means of at least 2.5mm.\n"
   ],
   "cell_type": "markdown",
   "metadata": {}
  },
  {
   "cell_type": "code",
   "execution_count": 53,
   "metadata": {},
   "outputs": [
    {
     "output_type": "stream",
     "name": "stdout",
     "text": [
      "effect size for virginica: 0.453\n"
     ]
    }
   ],
   "source": [
    "# petal lenghts of virginica\n",
    "virg_sample = iris_df.loc[iris_df['species'] == 'virginica', 'petal length (cm)'].to_numpy()\n",
    "\n",
    "# sample values\n",
    "virg_sample_var = np.var(virg_sample, ddof=1) # ddof=1 for unbiased variance\n",
    "\n",
    "# normalized effect size\n",
    "diff_of_mean = 0.25\n",
    "virg_cohen_d = diff_of_mean / np.sqrt(virg_sample_var)\n",
    "\n",
    "print('effect size for virginica: {:.3f}'.format(virg_cohen_d))\n"
   ]
  },
  {
   "source": [
    "We can now calculate the sample size required to capture such variations (medium effect size):\n"
   ],
   "cell_type": "markdown",
   "metadata": {}
  },
  {
   "cell_type": "code",
   "execution_count": 76,
   "metadata": {},
   "outputs": [
    {
     "output_type": "stream",
     "name": "stdout",
     "text": [
      "required sample size for the t-test (alpha=0.05, power=0.8): 41.0\n"
     ]
    }
   ],
   "source": [
    "# calculate required sample size (ceil because the formula returns the minimum sample size; we take the closest integer that is higher)\n",
    "test_size = sm.stats.tt_solve_power(effect_size=virg_cohen_d, alpha=0.05, power=0.8)\n",
    "print('required sample size for the t-test (alpha=0.05, power=0.8): {}'.format(np.ceil(test_size)))\n"
   ]
  }
 ]
}