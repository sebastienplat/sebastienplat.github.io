{
 "metadata": {
  "language_info": {
   "codemirror_mode": {
    "name": "ipython",
    "version": 3
   },
   "file_extension": ".py",
   "mimetype": "text/x-python",
   "name": "python",
   "nbconvert_exporter": "python",
   "pygments_lexer": "ipython3",
   "version": "3.8.0-final"
  },
  "orig_nbformat": 2,
  "kernelspec": {
   "name": "python38032bit64a64ed7a47843b8be3706a54e9a0958",
   "display_name": "Python 3.8.0 32-bit",
   "language": "python"
  }
 },
 "nbformat": 4,
 "nbformat_minor": 2,
 "cells": [
  {
   "source": [
    "# MODULES\n"
   ],
   "cell_type": "markdown",
   "metadata": {}
  },
  {
   "cell_type": "code",
   "execution_count": 1,
   "metadata": {},
   "outputs": [],
   "source": [
    "import numpy as np\n",
    "from scipy import stats\n",
    "import matplotlib.pyplot as plt\n",
    "\n",
    "from sklearn import datasets\n",
    "import pandas as pd\n",
    "from statsmodels.formula.api import ols\n",
    "import statsmodels.api as sm\n",
    "\n",
    "import scipy.stats as stats\n",
    "from scipy.stats import chi2\n",
    "from scipy.stats import chisquare\n"
   ]
  },
  {
   "source": [
    "## TODO - Bonferroni Corrections\n",
    "\n",
    "The chance of capturing rare event increases when testing multiple hypothesis. It means the likelihood of incorrectly rejecting a null hypothesis (false positive) increases. \n",
    "\n",
    "The Bonferroni correction rejects the null hypothesis for each $p_{i} \\leq \\frac {\\alpha}{m}$. This ensures the [Family Wise Error Rate](https://en.wikipedia.org/wiki/Family-wise_error_rate) stays below the significance level $\\alpha$. More information can be found [here](https://stats.stackexchange.com/questions/153122/bonferroni-correction-for-post-hoc-analysis-in-anova-regression).\n",
    "\n",
    "It is useful for post-hoc tests after performing one-way ANOVA or Chi-Square tests (explained in the next chapters) that reject the null hypothesis. When comparing $N$ multiple groups, we can either do:\n",
    "+ pairwise testing. In that case, $m$ will be ${N \\choose 2}$.\n",
    "+ one vs the rest. In that case, $m$ will be $N$."
   ],
   "cell_type": "markdown",
   "metadata": {}
  },
  {
   "source": [
    "___\n",
    "\n",
    "# INDEPENDENT TWO-SAMPLES T-TEST\n",
    "## Assumptions\n",
    "\n",
    "As for one-sample t-tests, the assumptions or normality must be met:\n",
    "+ the populations are normally distributed, OR\n",
    "+ the samples are large, regardless of the underlying distribution of data, thanks to the CLT.\n",
    "\n",
    "\n",
    "## Test Parameters\n",
    "\n",
    "The null hypothesis $H_0$ states that the population mean of two samples are equal: $\\mu_1 = \\mu_2$. \n",
    "\n",
    "The test statistic is $t=(\\bar {X_1}-\\bar {X_2}) / s$, where $\\bar {X_1}$ and $\\bar {X_2}$ are the sample means and $s^2$ is a measure of common variance (its exact formula depends on whether the two samples have equal size and/or variance).\n",
    "\n",
    "Under the null hypothesis, the test statistic follows a $t$-distribution (its degrees of freedom depend on the assumptions of equal or unequal variance). \n",
    "\n",
    "*Note: Student's t-test assume equality of variance; the Welch's unequal variances t-test, or Welch U test, doesn't make such assumptions. The litterature [does not recommend](https://onlinelibrary.wiley.com/doi/abs/10.1348/000711004849222) to test equality of variances before choosing between the two test. In general, using the Welch U test must be [preferred](https://www.rips-irsp.com/articles/10.5334/irsp.82/).*\n",
    "\n",
    "*Note (mathematical intuition): The independent two-samples t-test assumes that both sampling distribution of sample means follow a normal distribution. The sum of two normally distributed variables also follows a normal distribution, which leads to the mathematical proof that the test statistic follows a $t$-distribution.*\n"
   ],
   "cell_type": "markdown",
   "metadata": {}
  },
  {
   "source": [
    "## Example\n",
    "\n",
    "Let's imagine that we want to compare the daily production of two plants over 10 days.\n",
    "\n",
    "\n",
    "### Assumptions of Normality\n",
    "\n",
    "The sample size is very small, so we need to check the assumption of normality before performing the t-test. We reject the null hypothesis of normality if the p-value is below $\\alpha = 0.05$. \n",
    "\n",
    "\n",
    "### Hypothesis\n",
    "\n",
    "We will perform a t-test with the following parameters:\n",
    "+ our null hypothesis states that the population means are equal: $\\mu_1 = \\mu_2$. \n",
    "+ our alternate hypothesis states that $\\mu_1 \\neq \\mu_2$ (two-sided t-test).\n",
    "+ we set the signifance level $\\alpha = 0.05$.\n",
    "\n",
    "We will reject the null hypothesis if the p-value is below $\\alpha$. \n"
   ],
   "cell_type": "markdown",
   "metadata": {}
  },
  {
   "cell_type": "code",
   "execution_count": 1,
   "metadata": {},
   "outputs": [
    {
     "output_type": "stream",
     "name": "stdout",
     "text": [
      "mean production: plant1 = 1216 - plant2 = 1100\np-values for normality: plant1 = 0.482 - plant2 = 0.520\np-value of t-test: 0.04412\n"
     ]
    }
   ],
   "source": [
    "# modules\n",
    "import numpy as np\n",
    "from scipy import stats\n",
    "\n",
    "# comparing the prod distribution of two plants using the\n",
    "# number of cars produced over the same 10 days\n",
    "cars_plant1 = [1243, 1240, 1165, 1210, 1326, 1162, 1019, 1288, 1337, 1166]\n",
    "cars_plant2 = [1099,  972, 1130, 1305,  953,  1062, 1316, 1153,  906, 1109]\n",
    "\n",
    "# sample means\n",
    "print('mean production: plant1 = {:.0f} - plant2 = {:.0f}'.format(np.mean(cars_plant1), np.mean(cars_plant2)))\n",
    "\n",
    "# test for normality\n",
    "_, plant1_norm_p = stats.shapiro(cars_plant1)\n",
    "_, plant2_norm_p = stats.shapiro(cars_plant2)\n",
    "\n",
    "print('p-values for normality: plant1 = {:.3f} - plant2 = {:.3f}'.format(plant1_norm_p, plant2_norm_p))\n",
    "\n",
    "# two-sided t-test\n",
    "t_stat, t_p = stats.ttest_ind(cars_plant1, cars_plant2, equal_var=False)\n",
    "print('p-value of t-test: {:0.5f}'.format(t_p))\n"
   ]
  },
  {
   "source": [
    "___\n",
    "\n",
    "# LINEAR REGRESSION\n",
    "## Sum of Squares\n",
    "\n",
    "The distance from any point in a collection of data, to the mean of the data, is the deviation. This can be written as $y_{i}-\\overline {y}$ where $y_{i}$ is the i-th data point, and $\\overline {y}$ is the estimate of the mean. If all such deviations are squared, then summed, this gives the \"total sum of squares\" for these data:\n",
    "\n",
    "$$SS_{total} = \\sum _{i=1}^{n}\\left(y_{i}-{\\overline {y}}\\,\\right)^{2}$$\n",
    "\n",
    "If we fit a linear regression model, this total sum of square can be written as:\n",
    "\n",
    "$$SS_{total} = SS_{regression} + SS_{error} = SS_{explained} + SS_{residuals} = ESS + RSS$$\n",
    "\n",
    "The (ordinal) least square approach chooses coefficients for the linear model that minimize the RSS. \n",
    "\n",
    "## Residual Squared Error and R²\n",
    "\n",
    "The variance of the error terms (assuming that the errors $\\epsilon_i$ for each observation are uncorrelated with common variance) is often noted $\\sigma^2$. The estimate of $\\sigma$ is called the residual standard error, and is considered a measure of the lack of fit of the model (the smaller it is, the better the model fits the data): \n",
    "\n",
    "$$RSE = \\sqrt{RSS / (n-2)}$$\n",
    "\n",
    "The RSE is expressed as units of the response variable. The R² statistic provides an alternative measure of fit. It's the proportion of variance\n",
    "explained, so it always takes on a value between 0 and 1, and is independent of the scale of Y.\n",
    "\n",
    "$$R^2 = \\frac{ESS}{TSS} = \\frac{TSS - RSS}{TSS} = 1 - \\frac{RSS}{TSS}$$\n",
    "\n",
    "\n",
    "## Relationship between response and individual predictors\n",
    "\n",
    "We build our model from a single sample drawn from the population. Using a different sample would have led to slightly different values of these coefficients, and we want to quantify this variability.\n",
    "\n",
    "We can use the standard error of each coefficient about its mean to estimate their confidence intervals. Consequently, we can perform a t-test to check the null hypothesis that there is no relationship between a predictor and the response:\n",
    "\n",
    "$$t_{\\beta_i} = \\frac{\\hat{\\beta_i} - 0}{SE(\\hat{\\beta_i})} \\sim tdist_{n-2} \\textit{ if }H_0\\textit{ is true}$$\n",
    "\n",
    "_Note: the actual expression of the standard error of regression coefficients is complex but they are multiple of RSE^2._\n",
    "\n",
    "\n",
    "## Relationship between response and all predictors\n",
    "\n",
    "In addition to the tests above, we can also test the null hypothesis that all coefficients are equal to zero. This test is performed using the F-statistic:\n",
    "\n",
    "$$F = \\frac{ESS/p}{RSS/(n-p-1)}$$\n",
    "\n",
    "where $p$ is the number of predictors and $n$ the number of observations. A F-statistic greater than one will indicate a relationship between the response and at least one predictor. When $H_0$ is true and the errors $\\epsilon_i$ have a normal distribution (or if $n$ is large), the F-statistic follows a F-distribution which means we can calculate the p-value of the F-statistic under $H_0$.\n"
   ],
   "cell_type": "markdown",
   "metadata": {}
  },
  {
   "source": [
    "___\n",
    "\n",
    "# ANOVA\n",
    "\n",
    "The ANalysis Of VAriance ([ANOVA](https://en.wikipedia.org/wiki/Analysis_of_variance)) tests are an extension of t-tests when dealing with more than two samples.\n",
    "\n",
    "+ one-way ANOVA null hypothesis: the means of three or more populations are equal _(see example [here](https://en.wikipedia.org/wiki/One-way_analysis_of_variance#Example))._\n",
    "+ repeated measures ANOVA null hypothesis: the average difference between in-sample values is null.\n",
    "\n",
    "\n",
    "## Assumptions\n",
    "\n",
    "ANOVA is mathematically a [generalized linear model (GLM)](https://pythonfordatascience.org/anova-python/), where the factors of all the categorical variables have been one-encoded. In particular, factorial ANOVA include interaction terms between categorical factors and should therefore be interpreted like traditional linear models.\n",
    "\n",
    "ANOVA being a GLM, assumptions are the same as for linear regression:\n",
    "\n",
    "+ Normality: the distributions of the residuals are normal.\n",
    "+ Homogeneity of variance, or homoscedasticity: the variance of data in groups should be the same.\n",
    "+ Independent observations.\n",
    "\n",
    "_Note: If group sizes are equal, the F-statistic (see below) is robust to violations of normality and homogeneity of variance._\n",
    "\n",
    "\n",
    "## F-statistic\n",
    "\n",
    "ANOVA compares two types of variance:\n",
    "\n",
    "+ between groups: how far group means stray from the total mean.\n",
    "+ within groups: how far individual values stray from their respective group mean.\n",
    "\n",
    "The F-statistic is the variance between groups divided by the variance within groups. \n",
    "\n",
    "$$F = \\frac{\\text{explained variance}}{\\text{unexplained variance}} = \\frac{\\text{between-groups variability}}{\\text{within-groups variability}} = \\frac{SS_{between-groups} / (\\text{groups}- 1)}{SS_{within-groups} / (\\text{group size}- \\text{groups})}$$\n",
    "\n",
    "We reject the null hypothesis that the groups belong to the same population if the variance between groups is large compared to the variance within groups.\n",
    "\n",
    "\n",
    "## F-distribution\n",
    "\n",
    "If the assumptions are met, the F-statistic follows an [F-Distribution](https://www.geo.fu-berlin.de/en/v/soga/Basics-of-statistics/Continous-Random-Variables/F-Distribution/index.html) under the null hypothesis. \n"
   ],
   "cell_type": "markdown",
   "metadata": {}
  },
  {
   "cell_type": "code",
   "execution_count": 2,
   "metadata": {},
   "outputs": [
    {
     "output_type": "display_data",
     "data": {
      "text/plain": "<Figure size 432x288 with 1 Axes>",
      "image/svg+xml": "<?xml version=\"1.0\" encoding=\"utf-8\" standalone=\"no\"?>\r\n<!DOCTYPE svg PUBLIC \"-//W3C//DTD SVG 1.1//EN\"\r\n  \"http://www.w3.org/Graphics/SVG/1.1/DTD/svg11.dtd\">\r\n<!-- Created with matplotlib (https://matplotlib.org/) -->\r\n<svg height=\"251.399844pt\" version=\"1.1\" viewBox=\"0 0 373.99 251.399844\" width=\"373.99pt\" xmlns=\"http://www.w3.org/2000/svg\" xmlns:xlink=\"http://www.w3.org/1999/xlink\">\r\n <defs>\r\n  <style type=\"text/css\">\r\n*{stroke-linecap:butt;stroke-linejoin:round;}\r\n  </style>\r\n </defs>\r\n <g id=\"figure_1\">\r\n  <g id=\"patch_1\">\r\n   <path d=\"M 0 251.399844 \r\nL 373.99 251.399844 \r\nL 373.99 0 \r\nL 0 0 \r\nz\r\n\" style=\"fill:#ffffff;\"/>\r\n  </g>\r\n  <g id=\"axes_1\">\r\n   <g id=\"patch_2\">\r\n    <path d=\"M 31.99 224.64 \r\nL 366.79 224.64 \r\nL 366.79 7.2 \r\nL 31.99 7.2 \r\nz\r\n\" style=\"fill:#eaeaf2;\"/>\r\n   </g>\r\n   <g id=\"matplotlib.axis_1\">\r\n    <g id=\"xtick_1\">\r\n     <g id=\"line2d_1\">\r\n      <path clip-path=\"url(#pc6b28b3197)\" d=\"M 89.893445 224.64 \r\nL 89.893445 7.2 \r\n\" style=\"fill:none;stroke:#ffffff;stroke-linecap:round;\"/>\r\n     </g>\r\n     <g id=\"text_1\">\r\n      <!-- 1 -->\r\n      <defs>\r\n       <path d=\"M 37.25 0 \r\nL 28.46875 0 \r\nL 28.46875 56 \r\nQ 25.296875 52.984375 20.140625 49.953125 \r\nQ 14.984375 46.921875 10.890625 45.40625 \r\nL 10.890625 53.90625 \r\nQ 18.265625 57.375 23.78125 62.296875 \r\nQ 29.296875 67.234375 31.59375 71.875 \r\nL 37.25 71.875 \r\nz\r\n\" id=\"ArialMT-49\"/>\r\n      </defs>\r\n      <g style=\"fill:#262626;\" transform=\"translate(86.834929 242.013594)scale(0.11 -0.11)\">\r\n       <use xlink:href=\"#ArialMT-49\"/>\r\n      </g>\r\n     </g>\r\n    </g>\r\n    <g id=\"xtick_2\">\r\n     <g id=\"line2d_2\">\r\n      <path clip-path=\"url(#pc6b28b3197)\" d=\"M 152.225579 224.64 \r\nL 152.225579 7.2 \r\n\" style=\"fill:none;stroke:#ffffff;stroke-linecap:round;\"/>\r\n     </g>\r\n     <g id=\"text_2\">\r\n      <!-- 2 -->\r\n      <defs>\r\n       <path d=\"M 50.34375 8.453125 \r\nL 50.34375 0 \r\nL 3.03125 0 \r\nQ 2.9375 3.171875 4.046875 6.109375 \r\nQ 5.859375 10.9375 9.828125 15.625 \r\nQ 13.8125 20.3125 21.34375 26.46875 \r\nQ 33.015625 36.03125 37.109375 41.625 \r\nQ 41.21875 47.21875 41.21875 52.203125 \r\nQ 41.21875 57.421875 37.46875 61 \r\nQ 33.734375 64.59375 27.734375 64.59375 \r\nQ 21.390625 64.59375 17.578125 60.78125 \r\nQ 13.765625 56.984375 13.71875 50.25 \r\nL 4.6875 51.171875 \r\nQ 5.609375 61.28125 11.65625 66.578125 \r\nQ 17.71875 71.875 27.9375 71.875 \r\nQ 38.234375 71.875 44.234375 66.15625 \r\nQ 50.25 60.453125 50.25 52 \r\nQ 50.25 47.703125 48.484375 43.546875 \r\nQ 46.734375 39.40625 42.65625 34.8125 \r\nQ 38.578125 30.21875 29.109375 22.21875 \r\nQ 21.1875 15.578125 18.9375 13.203125 \r\nQ 16.703125 10.84375 15.234375 8.453125 \r\nz\r\n\" id=\"ArialMT-50\"/>\r\n      </defs>\r\n      <g style=\"fill:#262626;\" transform=\"translate(149.167063 242.013594)scale(0.11 -0.11)\">\r\n       <use xlink:href=\"#ArialMT-50\"/>\r\n      </g>\r\n     </g>\r\n    </g>\r\n    <g id=\"xtick_3\">\r\n     <g id=\"line2d_3\">\r\n      <path clip-path=\"url(#pc6b28b3197)\" d=\"M 214.557713 224.64 \r\nL 214.557713 7.2 \r\n\" style=\"fill:none;stroke:#ffffff;stroke-linecap:round;\"/>\r\n     </g>\r\n     <g id=\"text_3\">\r\n      <!-- 3 -->\r\n      <defs>\r\n       <path d=\"M 4.203125 18.890625 \r\nL 12.984375 20.0625 \r\nQ 14.5 12.59375 18.140625 9.296875 \r\nQ 21.78125 6 27 6 \r\nQ 33.203125 6 37.46875 10.296875 \r\nQ 41.75 14.59375 41.75 20.953125 \r\nQ 41.75 27 37.796875 30.921875 \r\nQ 33.84375 34.859375 27.734375 34.859375 \r\nQ 25.25 34.859375 21.53125 33.890625 \r\nL 22.515625 41.609375 \r\nQ 23.390625 41.5 23.921875 41.5 \r\nQ 29.546875 41.5 34.03125 44.421875 \r\nQ 38.53125 47.359375 38.53125 53.46875 \r\nQ 38.53125 58.296875 35.25 61.46875 \r\nQ 31.984375 64.65625 26.8125 64.65625 \r\nQ 21.6875 64.65625 18.265625 61.421875 \r\nQ 14.84375 58.203125 13.875 51.765625 \r\nL 5.078125 53.328125 \r\nQ 6.6875 62.15625 12.390625 67.015625 \r\nQ 18.109375 71.875 26.609375 71.875 \r\nQ 32.46875 71.875 37.390625 69.359375 \r\nQ 42.328125 66.84375 44.9375 62.5 \r\nQ 47.5625 58.15625 47.5625 53.265625 \r\nQ 47.5625 48.640625 45.0625 44.828125 \r\nQ 42.578125 41.015625 37.703125 38.765625 \r\nQ 44.046875 37.3125 47.5625 32.6875 \r\nQ 51.078125 28.078125 51.078125 21.140625 \r\nQ 51.078125 11.765625 44.234375 5.25 \r\nQ 37.40625 -1.265625 26.953125 -1.265625 \r\nQ 17.53125 -1.265625 11.296875 4.34375 \r\nQ 5.078125 9.96875 4.203125 18.890625 \r\nz\r\n\" id=\"ArialMT-51\"/>\r\n      </defs>\r\n      <g style=\"fill:#262626;\" transform=\"translate(211.499197 242.013594)scale(0.11 -0.11)\">\r\n       <use xlink:href=\"#ArialMT-51\"/>\r\n      </g>\r\n     </g>\r\n    </g>\r\n    <g id=\"xtick_4\">\r\n     <g id=\"line2d_4\">\r\n      <path clip-path=\"url(#pc6b28b3197)\" d=\"M 276.889847 224.64 \r\nL 276.889847 7.2 \r\n\" style=\"fill:none;stroke:#ffffff;stroke-linecap:round;\"/>\r\n     </g>\r\n     <g id=\"text_4\">\r\n      <!-- 4 -->\r\n      <defs>\r\n       <path d=\"M 32.328125 0 \r\nL 32.328125 17.140625 \r\nL 1.265625 17.140625 \r\nL 1.265625 25.203125 \r\nL 33.9375 71.578125 \r\nL 41.109375 71.578125 \r\nL 41.109375 25.203125 \r\nL 50.78125 25.203125 \r\nL 50.78125 17.140625 \r\nL 41.109375 17.140625 \r\nL 41.109375 0 \r\nz\r\nM 32.328125 25.203125 \r\nL 32.328125 57.46875 \r\nL 9.90625 25.203125 \r\nz\r\n\" id=\"ArialMT-52\"/>\r\n      </defs>\r\n      <g style=\"fill:#262626;\" transform=\"translate(273.831331 242.013594)scale(0.11 -0.11)\">\r\n       <use xlink:href=\"#ArialMT-52\"/>\r\n      </g>\r\n     </g>\r\n    </g>\r\n    <g id=\"xtick_5\">\r\n     <g id=\"line2d_5\">\r\n      <path clip-path=\"url(#pc6b28b3197)\" d=\"M 339.221981 224.64 \r\nL 339.221981 7.2 \r\n\" style=\"fill:none;stroke:#ffffff;stroke-linecap:round;\"/>\r\n     </g>\r\n     <g id=\"text_5\">\r\n      <!-- 5 -->\r\n      <defs>\r\n       <path d=\"M 4.15625 18.75 \r\nL 13.375 19.53125 \r\nQ 14.40625 12.796875 18.140625 9.390625 \r\nQ 21.875 6 27.15625 6 \r\nQ 33.5 6 37.890625 10.78125 \r\nQ 42.28125 15.578125 42.28125 23.484375 \r\nQ 42.28125 31 38.0625 35.34375 \r\nQ 33.84375 39.703125 27 39.703125 \r\nQ 22.75 39.703125 19.328125 37.765625 \r\nQ 15.921875 35.84375 13.96875 32.765625 \r\nL 5.71875 33.84375 \r\nL 12.640625 70.609375 \r\nL 48.25 70.609375 \r\nL 48.25 62.203125 \r\nL 19.671875 62.203125 \r\nL 15.828125 42.96875 \r\nQ 22.265625 47.46875 29.34375 47.46875 \r\nQ 38.71875 47.46875 45.15625 40.96875 \r\nQ 51.609375 34.46875 51.609375 24.265625 \r\nQ 51.609375 14.546875 45.953125 7.46875 \r\nQ 39.0625 -1.21875 27.15625 -1.21875 \r\nQ 17.390625 -1.21875 11.203125 4.25 \r\nQ 5.03125 9.71875 4.15625 18.75 \r\nz\r\n\" id=\"ArialMT-53\"/>\r\n      </defs>\r\n      <g style=\"fill:#262626;\" transform=\"translate(336.163465 242.013594)scale(0.11 -0.11)\">\r\n       <use xlink:href=\"#ArialMT-53\"/>\r\n      </g>\r\n     </g>\r\n    </g>\r\n   </g>\r\n   <g id=\"matplotlib.axis_2\">\r\n    <g id=\"ytick_1\">\r\n     <g id=\"line2d_6\">\r\n      <path clip-path=\"url(#pc6b28b3197)\" d=\"M 31.99 216.3161 \r\nL 366.79 216.3161 \r\n\" style=\"fill:none;stroke:#ffffff;stroke-linecap:round;\"/>\r\n     </g>\r\n     <g id=\"text_6\">\r\n      <!-- 0.0 -->\r\n      <defs>\r\n       <path d=\"M 4.15625 35.296875 \r\nQ 4.15625 48 6.765625 55.734375 \r\nQ 9.375 63.484375 14.515625 67.671875 \r\nQ 19.671875 71.875 27.484375 71.875 \r\nQ 33.25 71.875 37.59375 69.546875 \r\nQ 41.9375 67.234375 44.765625 62.859375 \r\nQ 47.609375 58.5 49.21875 52.21875 \r\nQ 50.828125 45.953125 50.828125 35.296875 \r\nQ 50.828125 22.703125 48.234375 14.96875 \r\nQ 45.65625 7.234375 40.5 3 \r\nQ 35.359375 -1.21875 27.484375 -1.21875 \r\nQ 17.140625 -1.21875 11.234375 6.203125 \r\nQ 4.15625 15.140625 4.15625 35.296875 \r\nz\r\nM 13.1875 35.296875 \r\nQ 13.1875 17.671875 17.3125 11.828125 \r\nQ 21.4375 6 27.484375 6 \r\nQ 33.546875 6 37.671875 11.859375 \r\nQ 41.796875 17.71875 41.796875 35.296875 \r\nQ 41.796875 52.984375 37.671875 58.78125 \r\nQ 33.546875 64.59375 27.390625 64.59375 \r\nQ 21.34375 64.59375 17.71875 59.46875 \r\nQ 13.1875 52.9375 13.1875 35.296875 \r\nz\r\n\" id=\"ArialMT-48\"/>\r\n       <path d=\"M 9.078125 0 \r\nL 9.078125 10.015625 \r\nL 19.09375 10.015625 \r\nL 19.09375 0 \r\nz\r\n\" id=\"ArialMT-46\"/>\r\n      </defs>\r\n      <g style=\"fill:#262626;\" transform=\"translate(7.2 220.252897)scale(0.11 -0.11)\">\r\n       <use xlink:href=\"#ArialMT-48\"/>\r\n       <use x=\"55.615234\" xlink:href=\"#ArialMT-46\"/>\r\n       <use x=\"83.398438\" xlink:href=\"#ArialMT-48\"/>\r\n      </g>\r\n     </g>\r\n    </g>\r\n    <g id=\"ytick_2\">\r\n     <g id=\"line2d_7\">\r\n      <path clip-path=\"url(#pc6b28b3197)\" d=\"M 31.99 191.573751 \r\nL 366.79 191.573751 \r\n\" style=\"fill:none;stroke:#ffffff;stroke-linecap:round;\"/>\r\n     </g>\r\n     <g id=\"text_7\">\r\n      <!-- 0.1 -->\r\n      <g style=\"fill:#262626;\" transform=\"translate(7.2 195.510548)scale(0.11 -0.11)\">\r\n       <use xlink:href=\"#ArialMT-48\"/>\r\n       <use x=\"55.615234\" xlink:href=\"#ArialMT-46\"/>\r\n       <use x=\"83.398438\" xlink:href=\"#ArialMT-49\"/>\r\n      </g>\r\n     </g>\r\n    </g>\r\n    <g id=\"ytick_3\">\r\n     <g id=\"line2d_8\">\r\n      <path clip-path=\"url(#pc6b28b3197)\" d=\"M 31.99 166.831403 \r\nL 366.79 166.831403 \r\n\" style=\"fill:none;stroke:#ffffff;stroke-linecap:round;\"/>\r\n     </g>\r\n     <g id=\"text_8\">\r\n      <!-- 0.2 -->\r\n      <g style=\"fill:#262626;\" transform=\"translate(7.2 170.7682)scale(0.11 -0.11)\">\r\n       <use xlink:href=\"#ArialMT-48\"/>\r\n       <use x=\"55.615234\" xlink:href=\"#ArialMT-46\"/>\r\n       <use x=\"83.398438\" xlink:href=\"#ArialMT-50\"/>\r\n      </g>\r\n     </g>\r\n    </g>\r\n    <g id=\"ytick_4\">\r\n     <g id=\"line2d_9\">\r\n      <path clip-path=\"url(#pc6b28b3197)\" d=\"M 31.99 142.089054 \r\nL 366.79 142.089054 \r\n\" style=\"fill:none;stroke:#ffffff;stroke-linecap:round;\"/>\r\n     </g>\r\n     <g id=\"text_9\">\r\n      <!-- 0.3 -->\r\n      <g style=\"fill:#262626;\" transform=\"translate(7.2 146.025851)scale(0.11 -0.11)\">\r\n       <use xlink:href=\"#ArialMT-48\"/>\r\n       <use x=\"55.615234\" xlink:href=\"#ArialMT-46\"/>\r\n       <use x=\"83.398438\" xlink:href=\"#ArialMT-51\"/>\r\n      </g>\r\n     </g>\r\n    </g>\r\n    <g id=\"ytick_5\">\r\n     <g id=\"line2d_10\">\r\n      <path clip-path=\"url(#pc6b28b3197)\" d=\"M 31.99 117.346706 \r\nL 366.79 117.346706 \r\n\" style=\"fill:none;stroke:#ffffff;stroke-linecap:round;\"/>\r\n     </g>\r\n     <g id=\"text_10\">\r\n      <!-- 0.4 -->\r\n      <g style=\"fill:#262626;\" transform=\"translate(7.2 121.283502)scale(0.11 -0.11)\">\r\n       <use xlink:href=\"#ArialMT-48\"/>\r\n       <use x=\"55.615234\" xlink:href=\"#ArialMT-46\"/>\r\n       <use x=\"83.398438\" xlink:href=\"#ArialMT-52\"/>\r\n      </g>\r\n     </g>\r\n    </g>\r\n    <g id=\"ytick_6\">\r\n     <g id=\"line2d_11\">\r\n      <path clip-path=\"url(#pc6b28b3197)\" d=\"M 31.99 92.604357 \r\nL 366.79 92.604357 \r\n\" style=\"fill:none;stroke:#ffffff;stroke-linecap:round;\"/>\r\n     </g>\r\n     <g id=\"text_11\">\r\n      <!-- 0.5 -->\r\n      <g style=\"fill:#262626;\" transform=\"translate(7.2 96.541154)scale(0.11 -0.11)\">\r\n       <use xlink:href=\"#ArialMT-48\"/>\r\n       <use x=\"55.615234\" xlink:href=\"#ArialMT-46\"/>\r\n       <use x=\"83.398438\" xlink:href=\"#ArialMT-53\"/>\r\n      </g>\r\n     </g>\r\n    </g>\r\n    <g id=\"ytick_7\">\r\n     <g id=\"line2d_12\">\r\n      <path clip-path=\"url(#pc6b28b3197)\" d=\"M 31.99 67.862008 \r\nL 366.79 67.862008 \r\n\" style=\"fill:none;stroke:#ffffff;stroke-linecap:round;\"/>\r\n     </g>\r\n     <g id=\"text_12\">\r\n      <!-- 0.6 -->\r\n      <defs>\r\n       <path d=\"M 49.75 54.046875 \r\nL 41.015625 53.375 \r\nQ 39.84375 58.546875 37.703125 60.890625 \r\nQ 34.125 64.65625 28.90625 64.65625 \r\nQ 24.703125 64.65625 21.53125 62.3125 \r\nQ 17.390625 59.28125 14.984375 53.46875 \r\nQ 12.59375 47.65625 12.5 36.921875 \r\nQ 15.671875 41.75 20.265625 44.09375 \r\nQ 24.859375 46.4375 29.890625 46.4375 \r\nQ 38.671875 46.4375 44.84375 39.96875 \r\nQ 51.03125 33.5 51.03125 23.25 \r\nQ 51.03125 16.5 48.125 10.71875 \r\nQ 45.21875 4.9375 40.140625 1.859375 \r\nQ 35.0625 -1.21875 28.609375 -1.21875 \r\nQ 17.625 -1.21875 10.6875 6.859375 \r\nQ 3.765625 14.9375 3.765625 33.5 \r\nQ 3.765625 54.25 11.421875 63.671875 \r\nQ 18.109375 71.875 29.4375 71.875 \r\nQ 37.890625 71.875 43.28125 67.140625 \r\nQ 48.6875 62.40625 49.75 54.046875 \r\nz\r\nM 13.875 23.1875 \r\nQ 13.875 18.65625 15.796875 14.5 \r\nQ 17.71875 10.359375 21.1875 8.171875 \r\nQ 24.65625 6 28.46875 6 \r\nQ 34.03125 6 38.03125 10.484375 \r\nQ 42.046875 14.984375 42.046875 22.703125 \r\nQ 42.046875 30.125 38.078125 34.390625 \r\nQ 34.125 38.671875 28.125 38.671875 \r\nQ 22.171875 38.671875 18.015625 34.390625 \r\nQ 13.875 30.125 13.875 23.1875 \r\nz\r\n\" id=\"ArialMT-54\"/>\r\n      </defs>\r\n      <g style=\"fill:#262626;\" transform=\"translate(7.2 71.798805)scale(0.11 -0.11)\">\r\n       <use xlink:href=\"#ArialMT-48\"/>\r\n       <use x=\"55.615234\" xlink:href=\"#ArialMT-46\"/>\r\n       <use x=\"83.398438\" xlink:href=\"#ArialMT-54\"/>\r\n      </g>\r\n     </g>\r\n    </g>\r\n    <g id=\"ytick_8\">\r\n     <g id=\"line2d_13\">\r\n      <path clip-path=\"url(#pc6b28b3197)\" d=\"M 31.99 43.11966 \r\nL 366.79 43.11966 \r\n\" style=\"fill:none;stroke:#ffffff;stroke-linecap:round;\"/>\r\n     </g>\r\n     <g id=\"text_13\">\r\n      <!-- 0.7 -->\r\n      <defs>\r\n       <path d=\"M 4.734375 62.203125 \r\nL 4.734375 70.65625 \r\nL 51.078125 70.65625 \r\nL 51.078125 63.8125 \r\nQ 44.234375 56.546875 37.515625 44.484375 \r\nQ 30.8125 32.421875 27.15625 19.671875 \r\nQ 24.515625 10.6875 23.78125 0 \r\nL 14.75 0 \r\nQ 14.890625 8.453125 18.0625 20.40625 \r\nQ 21.234375 32.375 27.171875 43.484375 \r\nQ 33.109375 54.59375 39.796875 62.203125 \r\nz\r\n\" id=\"ArialMT-55\"/>\r\n      </defs>\r\n      <g style=\"fill:#262626;\" transform=\"translate(7.2 47.056457)scale(0.11 -0.11)\">\r\n       <use xlink:href=\"#ArialMT-48\"/>\r\n       <use x=\"55.615234\" xlink:href=\"#ArialMT-46\"/>\r\n       <use x=\"83.398438\" xlink:href=\"#ArialMT-55\"/>\r\n      </g>\r\n     </g>\r\n    </g>\r\n    <g id=\"ytick_9\">\r\n     <g id=\"line2d_14\">\r\n      <path clip-path=\"url(#pc6b28b3197)\" d=\"M 31.99 18.377311 \r\nL 366.79 18.377311 \r\n\" style=\"fill:none;stroke:#ffffff;stroke-linecap:round;\"/>\r\n     </g>\r\n     <g id=\"text_14\">\r\n      <!-- 0.8 -->\r\n      <defs>\r\n       <path d=\"M 17.671875 38.8125 \r\nQ 12.203125 40.828125 9.5625 44.53125 \r\nQ 6.9375 48.25 6.9375 53.421875 \r\nQ 6.9375 61.234375 12.546875 66.546875 \r\nQ 18.171875 71.875 27.484375 71.875 \r\nQ 36.859375 71.875 42.578125 66.421875 \r\nQ 48.296875 60.984375 48.296875 53.171875 \r\nQ 48.296875 48.1875 45.671875 44.5 \r\nQ 43.0625 40.828125 37.75 38.8125 \r\nQ 44.34375 36.671875 47.78125 31.875 \r\nQ 51.21875 27.09375 51.21875 20.453125 \r\nQ 51.21875 11.28125 44.71875 5.03125 \r\nQ 38.234375 -1.21875 27.640625 -1.21875 \r\nQ 17.046875 -1.21875 10.546875 5.046875 \r\nQ 4.046875 11.328125 4.046875 20.703125 \r\nQ 4.046875 27.6875 7.59375 32.390625 \r\nQ 11.140625 37.109375 17.671875 38.8125 \r\nz\r\nM 15.921875 53.71875 \r\nQ 15.921875 48.640625 19.1875 45.40625 \r\nQ 22.46875 42.1875 27.6875 42.1875 \r\nQ 32.765625 42.1875 36.015625 45.375 \r\nQ 39.265625 48.578125 39.265625 53.21875 \r\nQ 39.265625 58.0625 35.90625 61.359375 \r\nQ 32.5625 64.65625 27.59375 64.65625 \r\nQ 22.5625 64.65625 19.234375 61.421875 \r\nQ 15.921875 58.203125 15.921875 53.71875 \r\nz\r\nM 13.09375 20.65625 \r\nQ 13.09375 16.890625 14.875 13.375 \r\nQ 16.65625 9.859375 20.171875 7.921875 \r\nQ 23.6875 6 27.734375 6 \r\nQ 34.03125 6 38.125 10.046875 \r\nQ 42.234375 14.109375 42.234375 20.359375 \r\nQ 42.234375 26.703125 38.015625 30.859375 \r\nQ 33.796875 35.015625 27.4375 35.015625 \r\nQ 21.234375 35.015625 17.15625 30.90625 \r\nQ 13.09375 26.8125 13.09375 20.65625 \r\nz\r\n\" id=\"ArialMT-56\"/>\r\n      </defs>\r\n      <g style=\"fill:#262626;\" transform=\"translate(7.2 22.314108)scale(0.11 -0.11)\">\r\n       <use xlink:href=\"#ArialMT-48\"/>\r\n       <use x=\"55.615234\" xlink:href=\"#ArialMT-46\"/>\r\n       <use x=\"83.398438\" xlink:href=\"#ArialMT-56\"/>\r\n      </g>\r\n     </g>\r\n    </g>\r\n   </g>\r\n   <g id=\"line2d_15\">\r\n    <path clip-path=\"url(#pc6b28b3197)\" d=\"M 47.208182 173.299085 \r\nL 50.282562 146.139156 \r\nL 53.356942 117.018067 \r\nL 56.431322 89.2105 \r\nL 59.505702 65.023523 \r\nL 62.580083 45.698502 \r\nL 65.654463 31.608778 \r\nL 68.728843 22.538105 \r\nL 71.803223 17.931704 \r\nL 74.877603 17.083636 \r\nL 77.951983 19.260128 \r\nL 81.026364 23.77184 \r\nL 84.100744 30.010171 \r\nL 87.175124 37.46042 \r\nL 90.249504 45.701265 \r\nL 93.323884 54.396968 \r\nL 96.398264 63.286369 \r\nL 99.472645 72.17109 \r\nL 102.547025 80.904271 \r\nL 105.621405 89.380483 \r\nL 108.695785 97.527056 \r\nL 111.770165 105.296831 \r\nL 114.844545 112.662228 \r\nL 117.918926 119.610456 \r\nL 120.993306 126.139711 \r\nL 124.067686 132.25618 \r\nL 127.142066 137.971709 \r\nL 130.216446 143.302004 \r\nL 133.290826 148.265257 \r\nL 136.365207 152.881108 \r\nL 139.439587 157.169868 \r\nL 142.513967 161.151956 \r\nL 145.588347 164.847481 \r\nL 148.662727 168.275962 \r\nL 151.737107 171.456126 \r\nL 154.811488 174.405789 \r\nL 157.885868 177.141782 \r\nL 160.960248 179.679921 \r\nL 164.034628 182.035 \r\nL 167.109008 184.220815 \r\nL 170.183388 186.250185 \r\nL 173.257769 188.135005 \r\nL 176.332149 189.886283 \r\nL 179.406529 191.514196 \r\nL 182.480909 193.028141 \r\nL 185.555289 194.436786 \r\nL 188.629669 195.748121 \r\nL 191.70405 196.969506 \r\nL 194.77843 198.107722 \r\nL 197.85281 199.16901 \r\nL 200.92719 200.159118 \r\nL 204.00157 201.083335 \r\nL 207.07595 201.946533 \r\nL 210.150331 202.753196 \r\nL 213.224711 203.507455 \r\nL 216.299091 204.213114 \r\nL 219.373471 204.873678 \r\nL 222.447851 205.492378 \r\nL 225.522231 206.072193 \r\nL 228.596612 206.615872 \r\nL 231.670992 207.12595 \r\nL 234.745372 207.604767 \r\nL 237.819752 208.054487 \r\nL 240.894132 208.477106 \r\nL 243.968512 208.874471 \r\nL 247.042893 209.24829 \r\nL 250.117273 209.600144 \r\nL 253.191653 209.931497 \r\nL 256.266033 210.243704 \r\nL 259.340413 210.538021 \r\nL 262.414793 210.815613 \r\nL 265.489174 211.077561 \r\nL 268.563554 211.324869 \r\nL 271.637934 211.558467 \r\nL 274.712314 211.779223 \r\nL 277.786694 211.98794 \r\nL 280.861074 212.185368 \r\nL 283.935455 212.372203 \r\nL 287.009835 212.549094 \r\nL 290.084215 212.716647 \r\nL 293.158595 212.875423 \r\nL 296.232975 213.025949 \r\nL 299.307355 213.168716 \r\nL 302.381736 213.30418 \r\nL 305.456116 213.432769 \r\nL 308.530496 213.554884 \r\nL 311.604876 213.670896 \r\nL 314.679256 213.781156 \r\nL 317.753636 213.885991 \r\nL 320.828017 213.985706 \r\nL 323.902397 214.080589 \r\nL 326.976777 214.170908 \r\nL 330.051157 214.256915 \r\nL 333.125537 214.338846 \r\nL 336.199917 214.416923 \r\nL 339.274298 214.491355 \r\nL 342.348678 214.562337 \r\nL 345.423058 214.630052 \r\nL 348.497438 214.694673 \r\nL 351.571818 214.756364 \r\n\" style=\"fill:none;stroke:#c44e52;stroke-linecap:round;stroke-opacity:0.6;stroke-width:2;\"/>\r\n   </g>\r\n   <g id=\"patch_3\">\r\n    <path d=\"M 31.99 224.64 \r\nL 31.99 7.2 \r\n\" style=\"fill:none;stroke:#ffffff;stroke-linecap:square;stroke-linejoin:miter;stroke-width:1.25;\"/>\r\n   </g>\r\n   <g id=\"patch_4\">\r\n    <path d=\"M 366.79 224.64 \r\nL 366.79 7.2 \r\n\" style=\"fill:none;stroke:#ffffff;stroke-linecap:square;stroke-linejoin:miter;stroke-width:1.25;\"/>\r\n   </g>\r\n   <g id=\"patch_5\">\r\n    <path d=\"M 31.99 224.64 \r\nL 366.79 224.64 \r\n\" style=\"fill:none;stroke:#ffffff;stroke-linecap:square;stroke-linejoin:miter;stroke-width:1.25;\"/>\r\n   </g>\r\n   <g id=\"patch_6\">\r\n    <path d=\"M 31.99 7.2 \r\nL 366.79 7.2 \r\n\" style=\"fill:none;stroke:#ffffff;stroke-linecap:square;stroke-linejoin:miter;stroke-width:1.25;\"/>\r\n   </g>\r\n  </g>\r\n </g>\r\n <defs>\r\n  <clipPath id=\"pc6b28b3197\">\r\n   <rect height=\"217.44\" width=\"334.8\" x=\"31.99\" y=\"7.2\"/>\r\n  </clipPath>\r\n </defs>\r\n</svg>\r\n",
      "image/png": "[encoded data removed]"
     },
     "metadata": {}
    }
   ],
   "source": [
    "# modules\n",
    "import matplotlib.pyplot as plt\n",
    "import seaborn as sns\n",
    "from scipy import stats\n",
    "sns.set()\n",
    "\n",
    "# degrees of freedom\n",
    "dfn, dfd = 30, 8\n",
    "\n",
    "# 100 x points between the first and 99th percentile of the f-distribution & corresponding f values\n",
    "x = np.linspace(stats.f.ppf(0.01, dfn, dfd), stats.f.ppf(0.99, dfn, dfd), 100)\n",
    "y = stats.f.pdf(x, dfn, dfd)\n",
    "\n",
    "# plot\n",
    "fig, ax = plt.subplots(1, 1)\n",
    "ax.plot(x, stats.f.pdf(x, dfn, dfd), 'r-', lw=2, alpha=0.6, label='f pdf')\n"
   ]
  },
  {
   "source": [
    "## One-way ANOVA\n",
    "\n",
    "The one-way ANOVA tests if several samples have the same mean.\n"
   ],
   "cell_type": "markdown",
   "metadata": {}
  },
  {
   "cell_type": "code",
   "execution_count": 3,
   "metadata": {},
   "outputs": [
    {
     "output_type": "execute_result",
     "data": {
      "text/plain": [
       "F_onewayResult(statistic=2.121212121212121, pvalue=0.16262315311926887)"
      ]
     },
     "metadata": {},
     "execution_count": 3
    }
   ],
   "source": [
    "# modules\n",
    "from scipy import stats\n",
    "\n",
    "# number of days each customer took to pay an invoice based on a percentage of discount if early payment\n",
    "discount_0perc = [14, 11, 18, 16, 21]\n",
    "discount_1perc = [21, 15, 23, 10, 16]\n",
    "discount_2perc = [11, 16,  9, 14, 10]\n",
    "\n",
    "stats.f_oneway(discount_0perc, discount_1perc, discount_2perc) # p-value > 0.05, the discounts make no significant difference\n"
   ]
  },
  {
   "source": [
    "## Two-way ANOVA\n",
    "\n",
    "The two-way ANOVA is an extension of the one-way ANOVA to test two independant variables at the same time, taking interactions between these variables into account. \n",
    "\n",
    "_Note: this can be further generalized to N-way (or factorial) ANOVA._\n"
   ],
   "cell_type": "markdown",
   "metadata": {}
  },
  {
   "cell_type": "code",
   "execution_count": 10,
   "metadata": {},
   "outputs": [
    {
     "output_type": "stream",
     "name": "stderr",
     "text": [
      "C:\\Users\\sebastien.plat\\AppData\\Local\\Programs\\Python\\Python38-32\\lib\\site-packages\\scipy\\stats\\stats.py:1534: UserWarning: kurtosistest only valid for n>=20 ... continuing anyway, n=15\n  warnings.warn(\"kurtosistest only valid for n>=20 ... continuing \"\n"
     ]
    },
    {
     "output_type": "execute_result",
     "data": {
      "text/plain": [
       "<class 'statsmodels.iolib.summary.Summary'>\n",
       "\"\"\"\n",
       "                            OLS Regression Results                            \n",
       "==============================================================================\n",
       "Dep. Variable:                   days   R-squared:                       0.906\n",
       "Model:                            OLS   Adj. R-squared:                  0.880\n",
       "Method:                 Least Squares   F-statistic:                     35.33\n",
       "Date:                Sun, 21 Mar 2021   Prob (F-statistic):           6.10e-06\n",
       "Time:                        10:56:31   Log-Likelihood:                -25.175\n",
       "No. Observations:                  15   AIC:                             58.35\n",
       "Df Residuals:                      11   BIC:                             61.18\n",
       "Df Model:                           3                                         \n",
       "Covariance Type:            nonrobust                                         \n",
       "=====================================================================================\n",
       "                        coef    std err          t      P>|t|      [0.025      0.975]\n",
       "-------------------------------------------------------------------------------------\n",
       "Intercept            23.2000      1.070     21.677      0.000      20.844      25.556\n",
       "C(discount)[T.1p]     1.0000      0.957      1.045      0.319      -1.107       3.107\n",
       "C(discount)[T.2p]    -4.0000      0.957     -4.179      0.002      -6.107      -1.893\n",
       "amount               -0.0480      0.006     -8.685      0.000      -0.060      -0.036\n",
       "==============================================================================\n",
       "Omnibus:                        0.365   Durbin-Watson:                   2.192\n",
       "Prob(Omnibus):                  0.833   Jarque-Bera (JB):                0.496\n",
       "Skew:                          -0.220   Prob(JB):                        0.780\n",
       "Kurtosis:                       2.226   Cond. No.                         588.\n",
       "==============================================================================\n",
       "\n",
       "Notes:\n",
       "[1] Standard Errors assume that the covariance matrix of the errors is correctly specified.\n",
       "\"\"\""
      ],
      "text/html": "<table class=\"simpletable\">\n<caption>OLS Regression Results</caption>\n<tr>\n  <th>Dep. Variable:</th>          <td>days</td>       <th>  R-squared:         </th> <td>   0.906</td>\n</tr>\n<tr>\n  <th>Model:</th>                   <td>OLS</td>       <th>  Adj. R-squared:    </th> <td>   0.880</td>\n</tr>\n<tr>\n  <th>Method:</th>             <td>Least Squares</td>  <th>  F-statistic:       </th> <td>   35.33</td>\n</tr>\n<tr>\n  <th>Date:</th>             <td>Sun, 21 Mar 2021</td> <th>  Prob (F-statistic):</th> <td>6.10e-06</td>\n</tr>\n<tr>\n  <th>Time:</th>                 <td>10:56:31</td>     <th>  Log-Likelihood:    </th> <td> -25.175</td>\n</tr>\n<tr>\n  <th>No. Observations:</th>      <td>    15</td>      <th>  AIC:               </th> <td>   58.35</td>\n</tr>\n<tr>\n  <th>Df Residuals:</th>          <td>    11</td>      <th>  BIC:               </th> <td>   61.18</td>\n</tr>\n<tr>\n  <th>Df Model:</th>              <td>     3</td>      <th>                     </th>     <td> </td>   \n</tr>\n<tr>\n  <th>Covariance Type:</th>      <td>nonrobust</td>    <th>                     </th>     <td> </td>   \n</tr>\n</table>\n<table class=\"simpletable\">\n<tr>\n          <td></td>             <th>coef</th>     <th>std err</th>      <th>t</th>      <th>P>|t|</th>  <th>[0.025</th>    <th>0.975]</th>  \n</tr>\n<tr>\n  <th>Intercept</th>         <td>   23.2000</td> <td>    1.070</td> <td>   21.677</td> <td> 0.000</td> <td>   20.844</td> <td>   25.556</td>\n</tr>\n<tr>\n  <th>C(discount)[T.1p]</th> <td>    1.0000</td> <td>    0.957</td> <td>    1.045</td> <td> 0.319</td> <td>   -1.107</td> <td>    3.107</td>\n</tr>\n<tr>\n  <th>C(discount)[T.2p]</th> <td>   -4.0000</td> <td>    0.957</td> <td>   -4.179</td> <td> 0.002</td> <td>   -6.107</td> <td>   -1.893</td>\n</tr>\n<tr>\n  <th>amount</th>            <td>   -0.0480</td> <td>    0.006</td> <td>   -8.685</td> <td> 0.000</td> <td>   -0.060</td> <td>   -0.036</td>\n</tr>\n</table>\n<table class=\"simpletable\">\n<tr>\n  <th>Omnibus:</th>       <td> 0.365</td> <th>  Durbin-Watson:     </th> <td>   2.192</td>\n</tr>\n<tr>\n  <th>Prob(Omnibus):</th> <td> 0.833</td> <th>  Jarque-Bera (JB):  </th> <td>   0.496</td>\n</tr>\n<tr>\n  <th>Skew:</th>          <td>-0.220</td> <th>  Prob(JB):          </th> <td>   0.780</td>\n</tr>\n<tr>\n  <th>Kurtosis:</th>      <td> 2.226</td> <th>  Cond. No.          </th> <td>    588.</td>\n</tr>\n</table><br/><br/>Notes:<br/>[1] Standard Errors assume that the covariance matrix of the errors is correctly specified."
     },
     "metadata": {},
     "execution_count": 10
    }
   ],
   "source": [
    "# modules\n",
    "import pandas as pd\n",
    "import statsmodels.api as sm\n",
    "import statsmodels.formula.api as smf\n",
    "\n",
    "# data - same as before, but checking if the amount has an impact\n",
    "df = pd.DataFrame({\n",
    "    'discount': ['2p','2p','2p','2p','2p','1p','1p','1p','1p','1p','0p','0p','0p','0p','0p'],\n",
    "    'amount': [50,100,150,200,250,50,100,150,200,250,50,100,150,200,250],\n",
    "    'days': [16,14,11,10,9,23,21,16,15,10,21,16,18,14,11]\n",
    "})\n",
    "\n",
    "# fit without interaction factor\n",
    "model = smf.ols('days ~ C(discount) + amount', df).fit()\n",
    "\n",
    "# discount has now become significant\n",
    "#sm.stats.anova_lm(model, typ=2)\n",
    "\n",
    "model.summary()\n"
   ]
  },
  {
   "source": [
    "Note on `model.summary()`:\n",
    "+ Durban-Watson detects the presence of autocorrelation.\n",
    "+ Jarque-Bera tests the assumption of normality.\n",
    "+ Omnibus tests the assumption of homogeneity of variance.\n",
    "+ Condition Number assess multicollinearity (should be < 20)."
   ],
   "cell_type": "markdown",
   "metadata": {}
  },
  {
   "cell_type": "code",
   "execution_count": null,
   "metadata": {},
   "outputs": [],
   "source": [
    "# data - three fertilizers, warm vs cold, size of plant\n",
    "df = pd.DataFrame({\n",
    "    'fertilizer': ['A','A','A','A','A','A','B','B','B','B','B','B','C','C','C','C','C','C'],\n",
    "    'temperature': ['W','W','W','C','C','C','W','W','W','C','C','C','W','W','W','C','C','C'],\n",
    "    'size': [13,14,12,16,18,17,21,19,17,14,11,14,18,15,15,15,13,8]\n",
    "})\n",
    "\n",
    "# fit with interaction factor\n",
    "model = ols('size ~ C(fertilizer) * C(temperature)', df).fit()\n",
    "\n",
    "# discount has now become significant\n",
    "sm.api.stats.anova_lm(model, typ=2)\n",
    "\n",
    "# model.summary()\n"
   ]
  }
 ]
}