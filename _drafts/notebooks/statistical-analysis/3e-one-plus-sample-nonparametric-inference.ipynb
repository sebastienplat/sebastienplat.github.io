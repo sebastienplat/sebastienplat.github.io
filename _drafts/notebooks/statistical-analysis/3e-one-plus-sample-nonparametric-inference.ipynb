{
 "metadata": {
  "language_info": {
   "codemirror_mode": {
    "name": "ipython",
    "version": 3
   },
   "file_extension": ".py",
   "mimetype": "text/x-python",
   "name": "python",
   "nbconvert_exporter": "python",
   "pygments_lexer": "ipython3",
   "version": "3.8.0-final"
  },
  "orig_nbformat": 2,
  "kernelspec": {
   "name": "python38032bit64a64ed7a47843b8be3706a54e9a0958",
   "display_name": "Python 3.8.0 32-bit",
   "language": "python"
  }
 },
 "nbformat": 4,
 "nbformat_minor": 2,
 "cells": [
  {
   "source": [
    "___\n",
    "\n",
    "# One-sample Wilcoxon Sign-Rank Test\n",
    "\n",
    "\n"
   ],
   "cell_type": "markdown",
   "metadata": {}
  },
  {
   "source": [
    "___\n",
    "\n",
    "# Non-Parametric Tests\n",
    "## Wilcoxon rank-sum test\n",
    "\n",
    "Similar to independent t-tests, but tests if random members of sample A tend to be greater than random members of sample B.\n",
    "\n",
    "## Wilcoxon signed-rank test\n",
    "\n",
    "Similar to paired t-tests, but tests if ranks differ across pairs.\n"
   ],
   "cell_type": "markdown",
   "metadata": {}
  }
 ]
}