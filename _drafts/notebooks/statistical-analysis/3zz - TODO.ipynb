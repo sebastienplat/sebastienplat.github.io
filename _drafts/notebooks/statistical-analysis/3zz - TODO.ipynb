{
 "cells": [
  {
   "source": [
    "## TODO - Further Reads\n",
    "\n",
    "A few interesting Wikipedia articles:\n",
    "\n",
    "Generalities\n",
    "+ https://en.wikipedia.org/wiki/Sampling_distribution\n",
    "+ https://en.wikipedia.org/wiki/Statistical_hypothesis_testing \n",
    "\n",
    "Probabilities\n",
    "+ https://en.wikipedia.org/wiki/Probability_interpretations\n",
    "+ https://en.wikipedia.org/wiki/Frequentist_probability\n",
    "+ https://en.wikipedia.org/wiki/Bayesian_probability\n",
    "\n",
    "Inference paradigms:\n",
    "+ https://en.wikipedia.org/wiki/Frequentist_inference\n",
    "+ https://en.wikipedia.org/wiki/Bayesian_inference\n",
    "+ https://en.wikipedia.org/wiki/Lindley%27s_paradox\n",
    "+ https://www.stat.berkeley.edu/~stark/Preprints/611.pdf\n",
    "\n",
    "PArametric vs Ordinal\n",
    "+ https://tech.snmjournals.org/content/46/3/318.2#:~:text=Currie%20writes%2C%20%E2%80%9CThe%20Likert%20scale,the%20data%20ordinal%20in%20nature.&text=Moreover%2C%20he%20concludes%20that%20parametric,distribution%20of%20data)%20are%20violated.\n",
    "+ https://www.researchgate.net/post/What_is_the_most_suitable_statistical_test_for_ordinal_data_eg_Likert_scales\n"
   ],
   "cell_type": "markdown",
   "metadata": {}
  },
  {
   "source": [
    "## TODO - LIMITS OF SUMMARY STATISTICS - ANSCOMBES QUARTET\n",
    "\n",
    "[Anscombe's quartet](https://en.wikipedia.org/wiki/Anscombe%27s_quartet) comprises four data sets of eleven data points (see below) that have nearly identical descriptive statistics, yet have very different distributions and appear very different when [graphed](https://matplotlib.org/3.2.1/gallery/specialty_plots/anscombe.html). They were constructed in 1973 by the statistician Francis Anscombe to demonstrate both the importance of graphing data before analyzing it and the effect of outliers and other influential observations on statistical properties.\n",
    "\n",
    "1. simple linear relationship with gaussian noise. \n",
    "1. clear non-linear relationship between variables; the Pearson correlation coefficient is not relevant here. A more general regression and the corresponding [coefficient of determination](https://en.wikipedia.org/wiki/Coefficient_of_determination) would be more appropriate. \n",
    "1. the relationship is linear but  one outlier has enough influence to offset the calculated regression; it lowers the correlation coefficient from 1 to 0.816. A [robust regression](https://en.wikipedia.org/wiki/Robust_regression) would be more appropriate here.\n",
    "1. example when one [high-leverage point](https://en.wikipedia.org/wiki/Leverage_(statistics)) is enough to produce a high correlation coefficient, even though the other data points do not indicate any relationship between the variables.\n"
   ],
   "cell_type": "markdown",
   "metadata": {}
  },
  {
   "cell_type": "code",
   "execution_count": null,
   "metadata": {},
   "outputs": [],
   "source": [
    "# data \n",
    "x = [10, 8, 13, 9, 11, 14, 6, 4, 12, 7, 5]\n",
    "y1 = [8.04, 6.95, 7.58, 8.81, 8.33, 9.96, 7.24, 4.26, 10.84, 4.82, 5.68]\n",
    "y2 = [9.14, 8.14, 8.74, 8.77, 9.26, 8.10, 6.13, 3.10, 9.13, 7.26, 4.74]\n",
    "y3 = [7.46, 6.77, 12.74, 7.11, 7.81, 8.84, 6.08, 5.39, 8.15, 6.42, 5.73]\n",
    "x4 = [8, 8, 8, 8, 8, 8, 8, 19, 8, 8, 8]\n",
    "y4 = [6.58, 5.76, 7.71, 8.84, 8.47, 7.04, 5.25, 12.50, 5.56, 7.91, 6.89]\n",
    "\n",
    "datasets = {\n",
    "    'I': (x, y1),\n",
    "    'II': (x, y2),\n",
    "    'III': (x, y3),\n",
    "    'IV': (x4, y4)\n",
    "}\n",
    "\n",
    "# create fig\n",
    "fig, axs = plt.subplots(nrows=1, ncols=4, sharex=True, sharey=True, figsize=(15, 4))\n",
    "x_lin = np.array([np.min(x+x4), np.max(x+x4)])\n",
    "\n",
    "for ax, (label, (x, y)) in zip(axs.flat, datasets.items()):\n",
    "\n",
    "    # linear regression\n",
    "    p1, p0 = np.polyfit(x, y, deg=1)\n",
    "    y_lin = p1 * x_lin + p0\n",
    "\n",
    "    # plot\n",
    "    ax.plot(x, y, 'o')\n",
    "    ax.plot(x_lin, y_lin, 'r-', alpha=0.5, lw=2)\n",
    "\n",
    "    # add title\n",
    "    ax.set_title(label)\n",
    "\n",
    "plt.tight_layout(rect=[0, 0, 0.9, 0.9])\n"
   ]
  }
 ],
 "metadata": {
  "kernelspec": {
   "display_name": "Python 3.8.0 32-bit",
   "name": "python38032bit64a64ed7a47843b8be3706a54e9a0958",
   "language": "python"
  },
  "language_info": {
   "codemirror_mode": {
    "name": "ipython",
    "version": 3
   },
   "file_extension": ".py",
   "mimetype": "text/x-python",
   "name": "python",
   "nbconvert_exporter": "python",
   "pygments_lexer": "ipython3",
   "version": "3.8.0-final"
  },
  "orig_nbformat": 2
 },
 "nbformat": 4,
 "nbformat_minor": 2
}