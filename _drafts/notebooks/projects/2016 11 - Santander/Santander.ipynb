{
 "cells": [
  {
   "cell_type": "markdown",
   "metadata": {},
   "source": [
    "# Santander\n",
    "\n",
    "## Overview"
   ]
  },
  {
   "cell_type": "markdown",
   "metadata": {},
   "source": [
    "Link to the [kaggle competition page](https://www.kaggle.com/c/santander-product-recommendation)."
   ]
  },
  {
   "cell_type": "markdown",
   "metadata": {},
   "source": [
    "Santander offers products recommendations to their customers to support their needs regarding financial decisions, from house downpayment to leveraging their existing equity.\n",
    "\n",
    "Santander wants to predict which products their existing customers will use in the next month, based on their past behavior and that of similar customers. With a more effective recommendation system, Santander can better meet the individual needs of all customers and ensure their satisfaction no matter where they are in life.\n",
    "\n",
    "The goal is to predict what additional products each customer will use in 2016-06, in addition to the ones they already used the previous month 2016-05. You will use 1.5 years of historical information: monthly records of products each customer has used.\n",
    "\n",
    "The test and train sets are split by time, and public and private leaderboard sets are split randomly."
   ]
  },
  {
   "cell_type": "markdown",
   "metadata": {},
   "source": [
    "| Nb | Column Name           | Type | Description    |\n",
    "|:--:|:----------------------|:----:|:---------------|\n",
    "| 0  | fecha_dato            | Date | The table is partitioned for this column.   |\n",
    "| 1  | ncodpers              | Int  | Customer code.                              |\n",
    "| 2  | ~~ind_empleado~~      |      | ~~Employee index: A active, B ex employed, F filial, N not employee~~ **NOT USED** (not enough variations in the data). |\n",
    "| 3  | ~~pais_residencia~~   |      | ~~Customer's Country residence.~~ **NOT USED** (almost always Spain - see indresi).  |\n",
    "| 4  | sexo                  | Bool | ~~Customer's sex~~ (Is Male Y/N).                                         |\n",
    "| 5  | age                   | Int  | Age                                                                       |\n",
    "| 6  | fecha_alta            | Date | date when the customer first joined the bank.                             |\n",
    "| 7  | ind_nuevo             | Bool | New customer Index. 1 if the customer registered in the last 6 months.    |\n",
    "| 8  | antiguedad            | Int  | Customer seniority (in months).                                           |\n",
    "| 9  | indrel                | Bool | Is Primary Customer at the end of the month. ~~(1: Yes - 99: No).~~       |\n",
    "| 10 | ult_fec_cli_1t        | Date | Last date as primary customer (if he isn't at the end of the month)       |\n",
    "| 11 | indrel_1mes           | Cat  | Customer type at the beginning of the month ,1 (First/Primary customer), 2 (co-owner ),P (Potential),3 (former primary), 4(former co-owner) |\n",
    "| 12 | tiprel_1mes           | Cat  | Customer relation type at the beginning of the month, A (active), I (inactive), P (former customer),R (Potential)                           |\n",
    "| 13 | indresi               | Bool | ~~Residence index (S (Yes) or N (No)~~ (Is Spain resident Y/N).                   |\n",
    "| 14 | indext                | Bool | ~~Foreigner index (S (Yes) or N (No)~~ (Is Spain native Y/N).                     |\n",
    "| 15 | ~~conyuemp~~          |      | ~~Spouse index. 1 if spouse of an employee.~~ **NOT USED** (not enough data).     |\n",
    "| 16 | canal_entrada         | Cat  | channel used by the customer to join                                              |\n",
    "| 17 | indfall               | Bool | ~~Deceased index. N/S~~ (Is Dead Y/N).                                            |\n",
    "| 18 | ~~tipodom~~           |      | ~~Addres type. 1, primary address.~~ **NOT USED** (not enough data).              |\n",
    "| 19 | ~~cod_prov~~          |      | ~~Province code (customer's address).~~ **NOT USED** (will use nomprov instead).  |\n",
    "| 20 | nomprov               | Cat  | Province name                                                                     |\n",
    "| 21 | ind_actividad_cliente | Bool | Activity index (1, active customer; 0, inactive customer).                        |\n",
    "| 22 | renta                 | Int  | Gross income of the household.                                                    |\n",
    "| 23 | segmento              | Cat  | segmentation: 01 - VIP, 02 - Individuals 03 - college graduated                   |\n",
    "| 24 | ind_ahor_fin_ult1     | Bool | Saving Account              |\n",
    "| 25 | ind_aval_fin_ult1     | Bool | Guarantees                  |\n",
    "| 26 | ind_cco_fin_ult1      | Bool | Current Accounts            |\n",
    "| 27 | ind_cder_fin_ult1     | Bool | Derivada Account            |\n",
    "| 28 | ind_cno_fin_ult1      | Bool | Payroll Account             |\n",
    "| 29 | ind_ctju_fin_ult1     | Bool | Junior Account              |\n",
    "| 30 | ind_ctma_fin_ult1     | Bool | Más particular Account      |\n",
    "| 31 | ind_ctop_fin_ult1     | Bool | particular Account          |\n",
    "| 32 | ind_ctpp_fin_ult1     | Bool | particular Plus Account     |\n",
    "| 33 | ind_deco_fin_ult1     | Bool | Short-term deposits         |\n",
    "| 34 | ind_deme_fin_ult1     | Bool | Medium-term deposits        |\n",
    "| 35 | ind_dela_fin_ult1     | Bool | Long-term deposits          |\n",
    "| 36 | ind_ecue_fin_ult1     | Bool | e-account                   |\n",
    "| 37 | ind_fond_fin_ult1     | Bool | Funds                       |\n",
    "| 38 | ind_hip_fin_ult1      | Bool | Mortgage                    |\n",
    "| 39 | ind_plan_fin_ult1     | Bool | Pensions                    |\n",
    "| 40 | ind_pres_fin_ult1     | Bool | Loans                       |\n",
    "| 41 | ind_reca_fin_ult1     | Bool | Taxes                       |\n",
    "| 42 | ind_tjcr_fin_ult1     | Bool | Credit Card                 |\n",
    "| 43 | ind_valo_fin_ult1     | Bool | Securities                  |\n",
    "| 44 | ind_viv_fin_ult1      | Bool | Home Account                |\n",
    "| 45 | ind_nomina_ult1       | Bool | Payroll                     |\n",
    "| 46 | ind_nom_pens_ult1     | Bool | Pensions                    |\n",
    "| 47 | ind_recibo_ult1       | Bool | Direct Debit                |\n"
   ]
  },
  {
   "cell_type": "markdown",
   "metadata": {},
   "source": [
    "___\n",
    "\n",
    "# Import Modules"
   ]
  },
  {
   "cell_type": "code",
   "execution_count": 75,
   "metadata": {},
   "outputs": [
    {
     "name": "stdout",
     "output_type": "stream",
     "text": [
      "Once deleted, variables cannot be recovered. Proceed (y/[n])? y\n"
     ]
    }
   ],
   "source": [
    "%reset"
   ]
  },
  {
   "cell_type": "code",
   "execution_count": 2,
   "metadata": {
    "ExecuteTime": {
     "end_time": "2020-02-16T11:14:44.368972Z",
     "start_time": "2020-02-16T11:14:39.277194Z"
    }
   },
   "outputs": [],
   "source": [
    "import pandas as pd\n",
    "import numpy as np"
   ]
  },
  {
   "cell_type": "markdown",
   "metadata": {},
   "source": [
    "___\n",
    "\n",
    "# Cleaning Data"
   ]
  },
  {
   "cell_type": "markdown",
   "metadata": {},
   "source": [
    "The file is fairly large so we will indicate the dtype for all columns. We made sure it does not remove any information by pre-loading a small number of columns at a time before giving each column its dtype."
   ]
  },
  {
   "cell_type": "markdown",
   "metadata": {},
   "source": [
    "## Customers and accounts"
   ]
  },
  {
   "cell_type": "markdown",
   "metadata": {},
   "source": [
    "Account use is either 0 or 1 so we can store them as byte. Only two accounts have missing values. We load them as float, then replace the missing values by the number 2 for now and convert them back to a byte."
   ]
  },
  {
   "cell_type": "code",
   "execution_count": 64,
   "metadata": {},
   "outputs": [],
   "source": [
    "col_dtypes = {\n",
    "'ncodpers': np.int64,\n",
    "'ind_ahor_fin_ult1': np.int8,\n",
    "'ind_aval_fin_ult1': np.int8,\n",
    "'ind_cco_fin_ult1': np.int8,\n",
    "'ind_cder_fin_ult1': np.int8,\n",
    "'ind_cno_fin_ult1': np.int8,\n",
    "'ind_ctju_fin_ult1': np.int8,\n",
    "'ind_ctma_fin_ult1': np.int8,\n",
    "'ind_ctop_fin_ult1': np.int8,\n",
    "'ind_ctpp_fin_ult1': np.int8,\n",
    "'ind_deco_fin_ult1': np.int8,\n",
    "'ind_deme_fin_ult1': np.int8,\n",
    "'ind_dela_fin_ult1': np.int8,\n",
    "'ind_ecue_fin_ult1': np.int8,\n",
    "'ind_fond_fin_ult1': np.int8,\n",
    "'ind_hip_fin_ult1': np.int8,\n",
    "'ind_plan_fin_ult1': np.int8,\n",
    "'ind_pres_fin_ult1': np.int8,\n",
    "'ind_reca_fin_ult1': np.int8,\n",
    "'ind_tjcr_fin_ult1': np.int8,\n",
    "'ind_valo_fin_ult1': np.int8,\n",
    "'ind_viv_fin_ult1': np.int8,\n",
    "'ind_nomina_ult1': np.float16,\n",
    "'ind_nom_pens_ult1': np.float16,\n",
    "'ind_recibo_ult1': np.int8\n",
    "}"
   ]
  },
  {
   "cell_type": "code",
   "execution_count": 71,
   "metadata": {},
   "outputs": [],
   "source": [
    "\n",
    "# account use - we use the value 2 for missing information (we'll update these values later)\n",
    "df = (\n",
    "    pd\n",
    "    .read_csv('./raw_data/train_ver2.csv', usecols=[1] + list(range(24,48)), dtype=col_dtypes)\n",
    "    .fillna(2)\n",
    ")\n",
    "\n",
    "df[['ind_nomina_ult1', 'ind_nom_pens_ult1']] = df[['ind_nomina_ult1', 'ind_nom_pens_ult1']].astype(np.int8)\n"
   ]
  },
  {
   "cell_type": "markdown",
   "metadata": {},
   "source": [
    "## Store resulting df"
   ]
  },
  {
   "cell_type": "code",
   "execution_count": 263,
   "metadata": {
    "ExecuteTime": {
     "end_time": "2020-02-16T19:12:21.061138Z",
     "start_time": "2020-02-16T19:12:06.744724Z"
    }
   },
   "outputs": [],
   "source": [
    "df.to_hdf('accounts.h5', key='accounts')\n"
   ]
  },
  {
   "cell_type": "code",
   "execution_count": 267,
   "metadata": {
    "ExecuteTime": {
     "end_time": "2020-02-16T19:14:22.942978Z",
     "start_time": "2020-02-16T19:14:22.529724Z"
    }
   },
   "outputs": [],
   "source": [
    "df = pd.read_hdf('accounts.h5', key='accounts')\n"
   ]
  },
  {
   "cell_type": "markdown",
   "metadata": {},
   "source": [
    "___\n",
    "\n",
    "# Unused Fields"
   ]
  },
  {
   "cell_type": "markdown",
   "metadata": {},
   "source": [
    "Columns with too many missing values will be ignored:\n",
    "+ `pais_residencia`: almost all customers are in Spain. Redundant with `indresi`.\n",
    "+ `conyuemp`: too many missing values.\n",
    "+ `tipodom`: too many missing values.\n",
    "+ `ind_empleado`: not enough variations in the data.\n"
   ]
  },
  {
   "cell_type": "code",
   "execution_count": null,
   "metadata": {},
   "outputs": [],
   "source": [
    "unused_cols = ['pais_residencia', 'conyuemp', 'tipodom', 'ind_empleado']"
   ]
  },
  {
   "cell_type": "code",
   "execution_count": null,
   "metadata": {},
   "outputs": [],
   "source": [
    "unused = pd.read_csv('./raw_data/train_ver2.csv', usecols=unused_cols + ['indresi'])"
   ]
  },
  {
   "cell_type": "markdown",
   "metadata": {},
   "source": [
    "## Country"
   ]
  },
  {
   "cell_type": "markdown",
   "metadata": {},
   "source": [
    "We won't use the country of residence, only `indresi` for now."
   ]
  },
  {
   "cell_type": "code",
   "execution_count": 93,
   "metadata": {
    "ExecuteTime": {
     "end_time": "2020-02-16T17:27:28.710286Z",
     "start_time": "2020-02-16T17:27:25.440358Z"
    }
   },
   "outputs": [
    {
     "data": {
      "text/html": [
       "<div>\n",
       "<style scoped>\n",
       "    .dataframe tbody tr th:only-of-type {\n",
       "        vertical-align: middle;\n",
       "    }\n",
       "\n",
       "    .dataframe tbody tr th {\n",
       "        vertical-align: top;\n",
       "    }\n",
       "\n",
       "    .dataframe thead th {\n",
       "        text-align: right;\n",
       "    }\n",
       "</style>\n",
       "<table border=\"1\" class=\"dataframe\">\n",
       "  <thead>\n",
       "    <tr style=\"text-align: right;\">\n",
       "      <th></th>\n",
       "      <th></th>\n",
       "      <th>ncodpers</th>\n",
       "    </tr>\n",
       "    <tr>\n",
       "      <th>is_spain</th>\n",
       "      <th>indresi</th>\n",
       "      <th></th>\n",
       "    </tr>\n",
       "  </thead>\n",
       "  <tbody>\n",
       "    <tr>\n",
       "      <td rowspan=\"2\" valign=\"top\">False</td>\n",
       "      <td>N</td>\n",
       "      <td>65862</td>\n",
       "    </tr>\n",
       "    <tr>\n",
       "      <td>S</td>\n",
       "      <td>3</td>\n",
       "    </tr>\n",
       "    <tr>\n",
       "      <td rowspan=\"2\" valign=\"top\">True</td>\n",
       "      <td>N</td>\n",
       "      <td>2</td>\n",
       "    </tr>\n",
       "    <tr>\n",
       "      <td>S</td>\n",
       "      <td>13553708</td>\n",
       "    </tr>\n",
       "  </tbody>\n",
       "</table>\n",
       "</div>"
      ],
      "text/plain": [
       "                  ncodpers\n",
       "is_spain indresi          \n",
       "False    N           65862\n",
       "         S               3\n",
       "True     N               2\n",
       "         S        13553708"
      ]
     },
     "execution_count": 93,
     "metadata": {},
     "output_type": "execute_result"
    }
   ],
   "source": [
    "tmp = unused.loc[:, ['pais_residencia', 'indresi', 'ncodpers']]\n",
    "tmp['is_spain'] = tmp['pais_residencia'] == 'ES'\n",
    "tmp.groupby(['is_spain', 'indresi']).agg({'ncodpers': 'count'})"
   ]
  },
  {
   "cell_type": "code",
   "execution_count": 159,
   "metadata": {
    "ExecuteTime": {
     "end_time": "2020-02-16T18:27:37.444525Z",
     "start_time": "2020-02-16T18:27:36.192113Z"
    }
   },
   "outputs": [
    {
     "data": {
      "text/plain": [
       "N    13638711\n",
       "B        3566\n",
       "F        2523\n",
       "A        2492\n",
       "S          17\n",
       "Name: ind_empleado, dtype: int64"
      ]
     },
     "execution_count": 159,
     "metadata": {},
     "output_type": "execute_result"
    }
   ],
   "source": [
    "unused['ind_empleado'].value_counts(dropna=False)"
   ]
  },
  {
   "cell_type": "markdown",
   "metadata": {},
   "source": [
    "___\n",
    "\n",
    "# Customer Information"
   ]
  },
  {
   "cell_type": "markdown",
   "metadata": {},
   "source": [
    "Most columns have only a few values. \n",
    "+ If only two, we'll convert them to boolean. \n",
    "+ Otherwise we'll convert them to categorical. \n",
    "\n",
    "Columns with too many levels will be simplified to only keep values seen in more than 5% of the total rows. The rest will be bundled as \"Others\"."
   ]
  },
  {
   "cell_type": "markdown",
   "metadata": {},
   "source": [
    "_Note: We could check the consistency of customer information across months based on the customer ID `ncodpers`, but we'll replace the missing values with the most common ones for speed._"
   ]
  },
  {
   "cell_type": "markdown",
   "metadata": {},
   "source": [
    "## DataFrame"
   ]
  },
  {
   "cell_type": "code",
   "execution_count": 160,
   "metadata": {
    "ExecuteTime": {
     "end_time": "2020-02-16T18:31:37.256156Z",
     "start_time": "2020-02-16T18:31:37.246184Z"
    }
   },
   "outputs": [],
   "source": [
    "cust_cols = [\n",
    "    'ncodpers', \n",
    "    'sexo', 'age', 'indfall',\n",
    "    'indext',\n",
    "    'indresi', 'nomprov', \n",
    "    'segmento', 'renta'\n",
    "]"
   ]
  },
  {
   "cell_type": "code",
   "execution_count": 161,
   "metadata": {
    "ExecuteTime": {
     "end_time": "2020-02-16T18:32:13.684693Z",
     "start_time": "2020-02-16T18:31:37.598151Z"
    }
   },
   "outputs": [],
   "source": [
    "cust = pd.read_csv('./raw_data/train_ver2.csv', usecols=cust_cols, na_values = ' NA')"
   ]
  },
  {
   "cell_type": "code",
   "execution_count": 162,
   "metadata": {
    "ExecuteTime": {
     "end_time": "2020-02-16T18:32:13.712020Z",
     "start_time": "2020-02-16T18:32:13.684693Z"
    }
   },
   "outputs": [
    {
     "data": {
      "text/html": [
       "<div>\n",
       "<style scoped>\n",
       "    .dataframe tbody tr th:only-of-type {\n",
       "        vertical-align: middle;\n",
       "    }\n",
       "\n",
       "    .dataframe tbody tr th {\n",
       "        vertical-align: top;\n",
       "    }\n",
       "\n",
       "    .dataframe thead th {\n",
       "        text-align: right;\n",
       "    }\n",
       "</style>\n",
       "<table border=\"1\" class=\"dataframe\">\n",
       "  <thead>\n",
       "    <tr style=\"text-align: right;\">\n",
       "      <th></th>\n",
       "      <th>ncodpers</th>\n",
       "      <th>sexo</th>\n",
       "      <th>age</th>\n",
       "      <th>indresi</th>\n",
       "      <th>indext</th>\n",
       "      <th>indfall</th>\n",
       "      <th>nomprov</th>\n",
       "      <th>renta</th>\n",
       "      <th>segmento</th>\n",
       "    </tr>\n",
       "  </thead>\n",
       "  <tbody>\n",
       "    <tr>\n",
       "      <td>0</td>\n",
       "      <td>1375586</td>\n",
       "      <td>H</td>\n",
       "      <td>35.0</td>\n",
       "      <td>S</td>\n",
       "      <td>N</td>\n",
       "      <td>N</td>\n",
       "      <td>MALAGA</td>\n",
       "      <td>87218.10</td>\n",
       "      <td>02 - PARTICULARES</td>\n",
       "    </tr>\n",
       "    <tr>\n",
       "      <td>1</td>\n",
       "      <td>1050611</td>\n",
       "      <td>V</td>\n",
       "      <td>23.0</td>\n",
       "      <td>S</td>\n",
       "      <td>S</td>\n",
       "      <td>N</td>\n",
       "      <td>CIUDAD REAL</td>\n",
       "      <td>35548.74</td>\n",
       "      <td>03 - UNIVERSITARIO</td>\n",
       "    </tr>\n",
       "    <tr>\n",
       "      <td>2</td>\n",
       "      <td>1050612</td>\n",
       "      <td>V</td>\n",
       "      <td>23.0</td>\n",
       "      <td>S</td>\n",
       "      <td>N</td>\n",
       "      <td>N</td>\n",
       "      <td>CIUDAD REAL</td>\n",
       "      <td>122179.11</td>\n",
       "      <td>03 - UNIVERSITARIO</td>\n",
       "    </tr>\n",
       "    <tr>\n",
       "      <td>3</td>\n",
       "      <td>1050613</td>\n",
       "      <td>H</td>\n",
       "      <td>22.0</td>\n",
       "      <td>S</td>\n",
       "      <td>N</td>\n",
       "      <td>N</td>\n",
       "      <td>ZARAGOZA</td>\n",
       "      <td>119775.54</td>\n",
       "      <td>03 - UNIVERSITARIO</td>\n",
       "    </tr>\n",
       "    <tr>\n",
       "      <td>4</td>\n",
       "      <td>1050614</td>\n",
       "      <td>V</td>\n",
       "      <td>23.0</td>\n",
       "      <td>S</td>\n",
       "      <td>N</td>\n",
       "      <td>N</td>\n",
       "      <td>ZARAGOZA</td>\n",
       "      <td>NaN</td>\n",
       "      <td>03 - UNIVERSITARIO</td>\n",
       "    </tr>\n",
       "  </tbody>\n",
       "</table>\n",
       "</div>"
      ],
      "text/plain": [
       "   ncodpers sexo   age indresi indext indfall      nomprov      renta  \\\n",
       "0   1375586    H  35.0       S      N       N       MALAGA   87218.10   \n",
       "1   1050611    V  23.0       S      S       N  CIUDAD REAL   35548.74   \n",
       "2   1050612    V  23.0       S      N       N  CIUDAD REAL  122179.11   \n",
       "3   1050613    H  22.0       S      N       N     ZARAGOZA  119775.54   \n",
       "4   1050614    V  23.0       S      N       N     ZARAGOZA        NaN   \n",
       "\n",
       "             segmento  \n",
       "0   02 - PARTICULARES  \n",
       "1  03 - UNIVERSITARIO  \n",
       "2  03 - UNIVERSITARIO  \n",
       "3  03 - UNIVERSITARIO  \n",
       "4  03 - UNIVERSITARIO  "
      ]
     },
     "execution_count": 162,
     "metadata": {},
     "output_type": "execute_result"
    }
   ],
   "source": [
    "cust.head()"
   ]
  },
  {
   "cell_type": "markdown",
   "metadata": {},
   "source": [
    "## Missing Values"
   ]
  },
  {
   "cell_type": "markdown",
   "metadata": {},
   "source": [
    "### Count of Missing Values"
   ]
  },
  {
   "cell_type": "markdown",
   "metadata": {},
   "source": [
    "There are not many missing values, except for the income. We'll look at it more closely, but we'll use the most common value for the other fields."
   ]
  },
  {
   "cell_type": "code",
   "execution_count": 163,
   "metadata": {
    "ExecuteTime": {
     "end_time": "2020-02-16T18:32:17.948476Z",
     "start_time": "2020-02-16T18:32:13.721014Z"
    }
   },
   "outputs": [
    {
     "data": {
      "text/html": [
       "<div>\n",
       "<style scoped>\n",
       "    .dataframe tbody tr th:only-of-type {\n",
       "        vertical-align: middle;\n",
       "    }\n",
       "\n",
       "    .dataframe tbody tr th {\n",
       "        vertical-align: top;\n",
       "    }\n",
       "\n",
       "    .dataframe thead th {\n",
       "        text-align: right;\n",
       "    }\n",
       "</style>\n",
       "<table border=\"1\" class=\"dataframe\">\n",
       "  <thead>\n",
       "    <tr style=\"text-align: right;\">\n",
       "      <th></th>\n",
       "      <th>index</th>\n",
       "      <th>na_count</th>\n",
       "      <th>na_perc</th>\n",
       "    </tr>\n",
       "  </thead>\n",
       "  <tbody>\n",
       "    <tr>\n",
       "      <td>0</td>\n",
       "      <td>ncodpers</td>\n",
       "      <td>0</td>\n",
       "      <td>0.000000</td>\n",
       "    </tr>\n",
       "    <tr>\n",
       "      <td>1</td>\n",
       "      <td>sexo</td>\n",
       "      <td>27804</td>\n",
       "      <td>0.002037</td>\n",
       "    </tr>\n",
       "    <tr>\n",
       "      <td>2</td>\n",
       "      <td>age</td>\n",
       "      <td>27734</td>\n",
       "      <td>0.002032</td>\n",
       "    </tr>\n",
       "    <tr>\n",
       "      <td>3</td>\n",
       "      <td>indresi</td>\n",
       "      <td>27734</td>\n",
       "      <td>0.002032</td>\n",
       "    </tr>\n",
       "    <tr>\n",
       "      <td>4</td>\n",
       "      <td>indext</td>\n",
       "      <td>27734</td>\n",
       "      <td>0.002032</td>\n",
       "    </tr>\n",
       "    <tr>\n",
       "      <td>5</td>\n",
       "      <td>indfall</td>\n",
       "      <td>27734</td>\n",
       "      <td>0.002032</td>\n",
       "    </tr>\n",
       "    <tr>\n",
       "      <td>6</td>\n",
       "      <td>nomprov</td>\n",
       "      <td>93591</td>\n",
       "      <td>0.006858</td>\n",
       "    </tr>\n",
       "    <tr>\n",
       "      <td>7</td>\n",
       "      <td>renta</td>\n",
       "      <td>2794375</td>\n",
       "      <td>0.204756</td>\n",
       "    </tr>\n",
       "    <tr>\n",
       "      <td>8</td>\n",
       "      <td>segmento</td>\n",
       "      <td>189368</td>\n",
       "      <td>0.013876</td>\n",
       "    </tr>\n",
       "  </tbody>\n",
       "</table>\n",
       "</div>"
      ],
      "text/plain": [
       "      index  na_count   na_perc\n",
       "0  ncodpers         0  0.000000\n",
       "1      sexo     27804  0.002037\n",
       "2       age     27734  0.002032\n",
       "3   indresi     27734  0.002032\n",
       "4    indext     27734  0.002032\n",
       "5   indfall     27734  0.002032\n",
       "6   nomprov     93591  0.006858\n",
       "7     renta   2794375  0.204756\n",
       "8  segmento    189368  0.013876"
      ]
     },
     "execution_count": 163,
     "metadata": {},
     "output_type": "execute_result"
    }
   ],
   "source": [
    "na_values = cust.isna().sum().reset_index().rename(columns={0: 'na_count'})\n",
    "na_values['na_perc'] = na_values['na_count'] / cust.shape[0]\n",
    "na_values\n"
   ]
  },
  {
   "cell_type": "markdown",
   "metadata": {},
   "source": [
    "### Most Common Values"
   ]
  },
  {
   "cell_type": "markdown",
   "metadata": {},
   "source": [
    "We will use the most common values for categorical data."
   ]
  },
  {
   "cell_type": "code",
   "execution_count": 164,
   "metadata": {
    "ExecuteTime": {
     "end_time": "2020-02-16T18:32:24.850587Z",
     "start_time": "2020-02-16T18:32:17.952475Z"
    }
   },
   "outputs": [
    {
     "data": {
      "text/plain": [
       "sexo                        V\n",
       "indresi                     S\n",
       "indext                      N\n",
       "indfall                     N\n",
       "nomprov                MADRID\n",
       "segmento    02 - PARTICULARES\n",
       "Name: 0, dtype: object"
      ]
     },
     "execution_count": 164,
     "metadata": {},
     "output_type": "execute_result"
    }
   ],
   "source": [
    "#get most common value for categorical columns\n",
    "cat_cols = ['sexo', 'indresi', 'indext', 'indfall', 'nomprov', 'segmento']\n",
    "most_common_values = cust.loc[:, cat_cols].mode().iloc[0]\n",
    "most_common_values\n"
   ]
  },
  {
   "cell_type": "markdown",
   "metadata": {},
   "source": [
    "### Replace Missing Values"
   ]
  },
  {
   "cell_type": "code",
   "execution_count": 225,
   "metadata": {
    "ExecuteTime": {
     "end_time": "2020-02-16T18:59:18.271175Z",
     "start_time": "2020-02-16T18:59:16.688083Z"
    }
   },
   "outputs": [],
   "source": [
    "# copy raw df\n",
    "cust_cleaned = cust.copy(deep=True)\n"
   ]
  },
  {
   "cell_type": "code",
   "execution_count": 226,
   "metadata": {
    "ExecuteTime": {
     "end_time": "2020-02-16T18:59:30.373151Z",
     "start_time": "2020-02-16T18:59:18.271175Z"
    }
   },
   "outputs": [],
   "source": [
    "# replace missing values with most common ones\n",
    "cust_cleaned.loc[:, cat_cols] = cust_cleaned.loc[:, cat_cols].fillna(most_common_values)\n"
   ]
  },
  {
   "cell_type": "markdown",
   "metadata": {},
   "source": [
    "## Change Dtypes"
   ]
  },
  {
   "cell_type": "code",
   "execution_count": 227,
   "metadata": {
    "ExecuteTime": {
     "end_time": "2020-02-16T18:59:32.366882Z",
     "start_time": "2020-02-16T18:59:30.373151Z"
    }
   },
   "outputs": [],
   "source": [
    "# segmento\n",
    "segmento_categories = pd.api.types.CategoricalDtype(categories=['01 - TOP', '02 - PARTICULARES', '03 - UNIVERSITARIO'])\n",
    "cust_cleaned['segmento'] = cust_cleaned['segmento'].astype(segmento_categories)\n"
   ]
  },
  {
   "cell_type": "code",
   "execution_count": 228,
   "metadata": {
    "ExecuteTime": {
     "end_time": "2020-02-16T18:59:50.175730Z",
     "start_time": "2020-02-16T18:59:32.366882Z"
    }
   },
   "outputs": [],
   "source": [
    "# sexo\n",
    "cust_cleaned['sexo'] = cust_cleaned['sexo'].replace({'H': 1, 'V': 0}).astype(np.int8)\n",
    "\n",
    "# indresi (customer lives in Spain Y/N)\n",
    "cust_cleaned['indresi'] = cust_cleaned['indresi'].replace({'S': 1, 'N': 0}).astype(np.int8)\n",
    "\n",
    "# indext (customer comes from abroad Y/N - converted to customer comes from Spain Y/N)\n",
    "cust_cleaned['indext'] = cust_cleaned['indext'].replace({'N': 1, 'S': 0}).astype(np.int8)\n",
    "\n",
    "# indfall (customer is dead Y/N)\n",
    "cust_cleaned['indfall'] = cust_cleaned['indfall'].replace({'S': 1, 'N': 0}).astype(np.int8)\n"
   ]
  },
  {
   "cell_type": "code",
   "execution_count": 229,
   "metadata": {
    "ExecuteTime": {
     "end_time": "2020-02-16T18:59:51.192165Z",
     "start_time": "2020-02-16T18:59:50.175730Z"
    }
   },
   "outputs": [],
   "source": [
    "# age: we take the average of the 02 - PARTICULARES group (it's the one we use for the unknown customers)\n",
    "age_mean = int(cust_cleaned.loc[cust_cleaned['segmento'] == '02 - PARTICULARES', 'age'].mean())\n",
    "cust_cleaned['age'] = cust_cleaned['age'].fillna(age_mean)\n",
    "\n",
    "# we replace all the extreme ages with the max int8 value: 127\n",
    "cust_cleaned.loc[cust_cleaned['age'].astype(int) > 127, 'age'] = 127\n",
    "\n",
    "# we convert the age column to int8\n",
    "cust_cleaned['age'] = cust_cleaned['age'].astype(np.int8)\n"
   ]
  },
  {
   "cell_type": "markdown",
   "metadata": {
    "ExecuteTime": {
     "end_time": "2020-02-16T12:46:15.972518Z",
     "start_time": "2020-02-16T12:46:15.949011Z"
    }
   },
   "source": [
    "## Province"
   ]
  },
  {
   "cell_type": "markdown",
   "metadata": {},
   "source": [
    "We have cleaned up most of the customers variables. We will now:\n",
    "+ aggregate the smaller provinces to 'Others' for simplicity.\n",
    "+ convert the field to categorical.\n"
   ]
  },
  {
   "cell_type": "code",
   "execution_count": 240,
   "metadata": {
    "ExecuteTime": {
     "end_time": "2020-02-16T19:01:57.008414Z",
     "start_time": "2020-02-16T19:01:55.407590Z"
    },
    "scrolled": true
   },
   "outputs": [
    {
     "data": {
      "text/html": [
       "<div>\n",
       "<style scoped>\n",
       "    .dataframe tbody tr th:only-of-type {\n",
       "        vertical-align: middle;\n",
       "    }\n",
       "\n",
       "    .dataframe tbody tr th {\n",
       "        vertical-align: top;\n",
       "    }\n",
       "\n",
       "    .dataframe thead th {\n",
       "        text-align: right;\n",
       "    }\n",
       "</style>\n",
       "<table border=\"1\" class=\"dataframe\">\n",
       "  <thead>\n",
       "    <tr style=\"text-align: right;\">\n",
       "      <th></th>\n",
       "      <th>index</th>\n",
       "      <th>nomprov</th>\n",
       "      <th>nomprov_perc</th>\n",
       "      <th>nomprov_cumperc</th>\n",
       "      <th>nomprov2</th>\n",
       "    </tr>\n",
       "  </thead>\n",
       "  <tbody>\n",
       "    <tr>\n",
       "      <td>47</td>\n",
       "      <td>ALAVA</td>\n",
       "      <td>37704</td>\n",
       "      <td>0.002763</td>\n",
       "      <td>0.988976</td>\n",
       "      <td>OTHER</td>\n",
       "    </tr>\n",
       "    <tr>\n",
       "      <td>48</td>\n",
       "      <td>TERUEL</td>\n",
       "      <td>22525</td>\n",
       "      <td>0.001651</td>\n",
       "      <td>0.990626</td>\n",
       "      <td>OTHER</td>\n",
       "    </tr>\n",
       "    <tr>\n",
       "      <td>49</td>\n",
       "      <td>SORIA</td>\n",
       "      <td>17660</td>\n",
       "      <td>0.001294</td>\n",
       "      <td>0.991920</td>\n",
       "      <td>OTHER</td>\n",
       "    </tr>\n",
       "    <tr>\n",
       "      <td>50</td>\n",
       "      <td>MELILLA</td>\n",
       "      <td>9460</td>\n",
       "      <td>0.000693</td>\n",
       "      <td>0.992613</td>\n",
       "      <td>OTHER</td>\n",
       "    </tr>\n",
       "    <tr>\n",
       "      <td>51</td>\n",
       "      <td>CEUTA</td>\n",
       "      <td>7218</td>\n",
       "      <td>0.000529</td>\n",
       "      <td>0.993142</td>\n",
       "      <td>OTHER</td>\n",
       "    </tr>\n",
       "  </tbody>\n",
       "</table>\n",
       "</div>"
      ],
      "text/plain": [
       "      index  nomprov  nomprov_perc  nomprov_cumperc nomprov2\n",
       "47    ALAVA    37704      0.002763         0.988976    OTHER\n",
       "48   TERUEL    22525      0.001651         0.990626    OTHER\n",
       "49    SORIA    17660      0.001294         0.991920    OTHER\n",
       "50  MELILLA     9460      0.000693         0.992613    OTHER\n",
       "51    CEUTA     7218      0.000529         0.993142    OTHER"
      ]
     },
     "execution_count": 240,
     "metadata": {},
     "output_type": "execute_result"
    }
   ],
   "source": [
    "# cumulative count of customers per region\n",
    "prov = cust['nomprov'].value_counts().reset_index()\n",
    "prov['nomprov_perc'] = prov['nomprov'] / cust.shape[0]\n",
    "prov['nomprov_cumperc'] = prov['nomprov_perc'].cumsum()\n",
    "\n",
    "# aggregate smaller provinces to 'OTHER'\n",
    "prov['nomprov2'] = prov.apply(lambda x: x['index'] if x['nomprov_perc'] > 0.01 else 'OTHER', axis=1).astype('category')\n",
    "\n",
    "prov.tail()\n"
   ]
  },
  {
   "cell_type": "code",
   "execution_count": 231,
   "metadata": {
    "ExecuteTime": {
     "end_time": "2020-02-16T18:59:58.557593Z",
     "start_time": "2020-02-16T18:59:53.024220Z"
    }
   },
   "outputs": [],
   "source": [
    "# merge the two dfs\n",
    "cust_cleaned = cust_cleaned.merge(prov[['index', 'nomprov2']], left_on='nomprov', right_on='index')\n",
    "cust_cleaned = cust_cleaned.drop(columns = ['nomprov', 'index']).rename(columns = {'nomprov2': 'nomprov'})\n"
   ]
  },
  {
   "cell_type": "markdown",
   "metadata": {},
   "source": [
    "## Income"
   ]
  },
  {
   "cell_type": "markdown",
   "metadata": {},
   "source": [
    "Finally, we infer the missing incomes based on province and customer segmentation.\n"
   ]
  },
  {
   "cell_type": "code",
   "execution_count": 238,
   "metadata": {
    "ExecuteTime": {
     "end_time": "2020-02-16T19:01:17.545416Z",
     "start_time": "2020-02-16T19:01:13.037564Z"
    }
   },
   "outputs": [],
   "source": [
    "# average income per segment per region\n",
    "avg_income = cust_cleaned.groupby(['nomprov', 'segmento']).agg({'renta': 'mean'})\n",
    "\n",
    "# merge the two tables\n",
    "cust_cleaned = cust_cleaned.merge(avg_income, on=['nomprov', 'segmento'], how='left', suffixes=('', '_mean'))\n",
    "\n",
    "# replace missing incomes with averages\n",
    "cust_cleaned.loc[cust_cleaned['renta'].isna(), 'renta'] = cust_cleaned.loc[cust_cleaned['renta'].isna(), 'renta_mean'] \n",
    "\n",
    "# drop mean column\n",
    "cust_cleaned = cust_cleaned.drop(columns=['renta_mean'])\n",
    "\n",
    "# convert to integers\n",
    "cust_cleaned['renta'] = cust_cleaned['renta'].astype(np.int32)\n"
   ]
  },
  {
   "cell_type": "markdown",
   "metadata": {},
   "source": [
    "## Store resulting df"
   ]
  },
  {
   "cell_type": "code",
   "execution_count": 264,
   "metadata": {
    "ExecuteTime": {
     "end_time": "2020-02-16T19:12:56.610911Z",
     "start_time": "2020-02-16T19:12:48.390540Z"
    },
    "scrolled": true
   },
   "outputs": [],
   "source": [
    "# save df to store\n",
    "cust_cleaned.to_hdf('customers.h5', key='customers', format='t')\n"
   ]
  },
  {
   "cell_type": "code",
   "execution_count": 270,
   "metadata": {
    "ExecuteTime": {
     "end_time": "2020-02-16T19:15:38.042809Z",
     "start_time": "2020-02-16T19:15:35.716773Z"
    }
   },
   "outputs": [],
   "source": [
    "# load\n",
    "customers = pd.read_hdf('customers.h5', key='customers')\n"
   ]
  },
  {
   "cell_type": "markdown",
   "metadata": {},
   "source": [
    "## Inconsistent Information"
   ]
  },
  {
   "cell_type": "markdown",
   "metadata": {},
   "source": [
    "We could clean the data more thoroughly to have consistent information for all customers. For instance, some customers are not registered as having the same sex for all months."
   ]
  },
  {
   "cell_type": "code",
   "execution_count": 250,
   "metadata": {
    "ExecuteTime": {
     "end_time": "2020-02-16T19:05:54.109517Z",
     "start_time": "2020-02-16T19:05:46.844120Z"
    }
   },
   "outputs": [
    {
     "data": {
      "text/html": [
       "<div>\n",
       "<style scoped>\n",
       "    .dataframe tbody tr th:only-of-type {\n",
       "        vertical-align: middle;\n",
       "    }\n",
       "\n",
       "    .dataframe tbody tr th {\n",
       "        vertical-align: top;\n",
       "    }\n",
       "\n",
       "    .dataframe thead th {\n",
       "        text-align: right;\n",
       "    }\n",
       "</style>\n",
       "<table border=\"1\" class=\"dataframe\">\n",
       "  <thead>\n",
       "    <tr style=\"text-align: right;\">\n",
       "      <th></th>\n",
       "      <th>ncodpers</th>\n",
       "      <th>sexo</th>\n",
       "      <th>count</th>\n",
       "    </tr>\n",
       "  </thead>\n",
       "  <tbody>\n",
       "    <tr>\n",
       "      <td>877953</td>\n",
       "      <td>1463211</td>\n",
       "      <td>H</td>\n",
       "      <td>8</td>\n",
       "    </tr>\n",
       "    <tr>\n",
       "      <td>877954</td>\n",
       "      <td>1463211</td>\n",
       "      <td>V</td>\n",
       "      <td>1</td>\n",
       "    </tr>\n",
       "  </tbody>\n",
       "</table>\n",
       "</div>"
      ],
      "text/plain": [
       "        ncodpers sexo  count\n",
       "877953   1463211    H      8\n",
       "877954   1463211    V      1"
      ]
     },
     "execution_count": 250,
     "metadata": {},
     "output_type": "execute_result"
    }
   ],
   "source": [
    "\n",
    "sex = (\n",
    "    cust[['ncodpers', 'sexo']]\n",
    "    .groupby('ncodpers')\n",
    "    ['sexo'].value_counts(dropna=False)\n",
    "    .rename('count').reset_index()\n",
    ")\n",
    "\n",
    "test = sex.groupby('ncodpers').count().reset_index()\n",
    "#test[test['sexo'] != 1]\n",
    "\n",
    "sex[sex['ncodpers']==1463211]\n"
   ]
  },
  {
   "cell_type": "code",
   "execution_count": 254,
   "metadata": {
    "ExecuteTime": {
     "end_time": "2020-02-16T19:07:08.281095Z",
     "start_time": "2020-02-16T19:07:06.835550Z"
    }
   },
   "outputs": [],
   "source": [
    "test = store['df']"
   ]
  },
  {
   "cell_type": "code",
   "execution_count": 256,
   "metadata": {
    "ExecuteTime": {
     "end_time": "2020-02-16T19:07:18.024023Z",
     "start_time": "2020-02-16T19:07:18.016031Z"
    }
   },
   "outputs": [
    {
     "data": {
      "text/plain": [
       "(13647309, 25)"
      ]
     },
     "execution_count": 256,
     "metadata": {},
     "output_type": "execute_result"
    }
   ],
   "source": [
    "test.shape"
   ]
  },
  {
   "cell_type": "code",
   "execution_count": 260,
   "metadata": {
    "ExecuteTime": {
     "end_time": "2020-02-16T19:09:30.488802Z",
     "start_time": "2020-02-16T19:09:30.476837Z"
    }
   },
   "outputs": [
    {
     "data": {
      "text/plain": [
       "\"<class 'pandas.io.pytables.HDFStore'>\\nFile path: store.h5\\n/customers            frame                              \\n/df                   frame        (shape->[13647309,25])\""
      ]
     },
     "execution_count": 260,
     "metadata": {},
     "output_type": "execute_result"
    }
   ],
   "source": [
    "store.info()"
   ]
  },
  {
   "cell_type": "code",
   "execution_count": null,
   "metadata": {},
   "outputs": [],
   "source": []
  },
  {
   "cell_type": "markdown",
   "metadata": {},
   "source": [
    "___\n",
    "\n",
    "# Customer Relationship"
   ]
  },
  {
   "cell_type": "code",
   "execution_count": 18,
   "metadata": {
    "ExecuteTime": {
     "end_time": "2020-02-16T11:46:22.047729Z",
     "start_time": "2020-02-16T11:46:20.223480Z"
    }
   },
   "outputs": [],
   "source": [
    "relationship = df[[\n",
    "    'ncodpers', \n",
    "    'canal_entrada', \n",
    "    'fecha_alta', 'antiguedad', 'ind_nuevo', 'ult_fec_cli_1t', \n",
    "    'indrel', 'indrel_1mes', 'tiprel_1mes', 'ind_actividad_cliente'\n",
    "]]   "
   ]
  },
  {
   "cell_type": "code",
   "execution_count": 19,
   "metadata": {
    "ExecuteTime": {
     "end_time": "2020-02-16T11:46:22.185078Z",
     "start_time": "2020-02-16T11:46:22.047729Z"
    }
   },
   "outputs": [
    {
     "data": {
      "text/html": [
       "<div>\n",
       "<style scoped>\n",
       "    .dataframe tbody tr th:only-of-type {\n",
       "        vertical-align: middle;\n",
       "    }\n",
       "\n",
       "    .dataframe tbody tr th {\n",
       "        vertical-align: top;\n",
       "    }\n",
       "\n",
       "    .dataframe thead th {\n",
       "        text-align: right;\n",
       "    }\n",
       "</style>\n",
       "<table border=\"1\" class=\"dataframe\">\n",
       "  <thead>\n",
       "    <tr style=\"text-align: right;\">\n",
       "      <th></th>\n",
       "      <th>ncodpers</th>\n",
       "      <th>canal_entrada</th>\n",
       "      <th>segmento</th>\n",
       "      <th>fecha_alta</th>\n",
       "      <th>antiguedad</th>\n",
       "      <th>ind_nuevo</th>\n",
       "      <th>ult_fec_cli_1t</th>\n",
       "      <th>indrel</th>\n",
       "      <th>indrel_1mes</th>\n",
       "      <th>tiprel_1mes</th>\n",
       "      <th>ind_actividad_cliente</th>\n",
       "    </tr>\n",
       "  </thead>\n",
       "  <tbody>\n",
       "    <tr>\n",
       "      <td>0</td>\n",
       "      <td>1375586</td>\n",
       "      <td>KHL</td>\n",
       "      <td>02 - PARTICULARES</td>\n",
       "      <td>2015-01-12</td>\n",
       "      <td>6</td>\n",
       "      <td>0.0</td>\n",
       "      <td>NaN</td>\n",
       "      <td>1.0</td>\n",
       "      <td>1</td>\n",
       "      <td>A</td>\n",
       "      <td>1.0</td>\n",
       "    </tr>\n",
       "    <tr>\n",
       "      <td>1</td>\n",
       "      <td>1050611</td>\n",
       "      <td>KHE</td>\n",
       "      <td>03 - UNIVERSITARIO</td>\n",
       "      <td>2012-08-10</td>\n",
       "      <td>35</td>\n",
       "      <td>0.0</td>\n",
       "      <td>NaN</td>\n",
       "      <td>1.0</td>\n",
       "      <td>1</td>\n",
       "      <td>I</td>\n",
       "      <td>0.0</td>\n",
       "    </tr>\n",
       "    <tr>\n",
       "      <td>2</td>\n",
       "      <td>1050612</td>\n",
       "      <td>KHE</td>\n",
       "      <td>03 - UNIVERSITARIO</td>\n",
       "      <td>2012-08-10</td>\n",
       "      <td>35</td>\n",
       "      <td>0.0</td>\n",
       "      <td>NaN</td>\n",
       "      <td>1.0</td>\n",
       "      <td>1</td>\n",
       "      <td>I</td>\n",
       "      <td>0.0</td>\n",
       "    </tr>\n",
       "    <tr>\n",
       "      <td>3</td>\n",
       "      <td>1050613</td>\n",
       "      <td>KHD</td>\n",
       "      <td>03 - UNIVERSITARIO</td>\n",
       "      <td>2012-08-10</td>\n",
       "      <td>35</td>\n",
       "      <td>0.0</td>\n",
       "      <td>NaN</td>\n",
       "      <td>1.0</td>\n",
       "      <td>1</td>\n",
       "      <td>I</td>\n",
       "      <td>0.0</td>\n",
       "    </tr>\n",
       "    <tr>\n",
       "      <td>4</td>\n",
       "      <td>1050614</td>\n",
       "      <td>KHE</td>\n",
       "      <td>03 - UNIVERSITARIO</td>\n",
       "      <td>2012-08-10</td>\n",
       "      <td>35</td>\n",
       "      <td>0.0</td>\n",
       "      <td>NaN</td>\n",
       "      <td>1.0</td>\n",
       "      <td>1</td>\n",
       "      <td>A</td>\n",
       "      <td>1.0</td>\n",
       "    </tr>\n",
       "  </tbody>\n",
       "</table>\n",
       "</div>"
      ],
      "text/plain": [
       "   ncodpers canal_entrada            segmento  fecha_alta antiguedad  \\\n",
       "0   1375586           KHL   02 - PARTICULARES  2015-01-12          6   \n",
       "1   1050611           KHE  03 - UNIVERSITARIO  2012-08-10         35   \n",
       "2   1050612           KHE  03 - UNIVERSITARIO  2012-08-10         35   \n",
       "3   1050613           KHD  03 - UNIVERSITARIO  2012-08-10         35   \n",
       "4   1050614           KHE  03 - UNIVERSITARIO  2012-08-10         35   \n",
       "\n",
       "   ind_nuevo ult_fec_cli_1t  indrel indrel_1mes tiprel_1mes  \\\n",
       "0        0.0            NaN     1.0           1           A   \n",
       "1        0.0            NaN     1.0           1           I   \n",
       "2        0.0            NaN     1.0           1           I   \n",
       "3        0.0            NaN     1.0           1           I   \n",
       "4        0.0            NaN     1.0           1           A   \n",
       "\n",
       "   ind_actividad_cliente  \n",
       "0                    1.0  \n",
       "1                    0.0  \n",
       "2                    0.0  \n",
       "3                    0.0  \n",
       "4                    1.0  "
      ]
     },
     "execution_count": 19,
     "metadata": {},
     "output_type": "execute_result"
    }
   ],
   "source": [
    "relationship.head()"
   ]
  },
  {
   "cell_type": "markdown",
   "metadata": {},
   "source": [
    "___\n",
    "\n",
    "# Understanding the data"
   ]
  },
  {
   "cell_type": "code",
   "execution_count": 79,
   "metadata": {},
   "outputs": [],
   "source": [
    "# load from store\n",
    "df = store['df']"
   ]
  },
  {
   "cell_type": "code",
   "execution_count": 81,
   "metadata": {},
   "outputs": [
    {
     "data": {
      "text/plain": [
       "(13647309, 25)"
      ]
     },
     "execution_count": 81,
     "metadata": {},
     "output_type": "execute_result"
    }
   ],
   "source": [
    "df.shape"
   ]
  },
  {
   "cell_type": "markdown",
   "metadata": {},
   "source": [
    "___\n",
    "\n",
    "## Keep active customers only"
   ]
  },
  {
   "cell_type": "markdown",
   "metadata": {},
   "source": [
    "Our first step in cleaning the dataset is to remove the inactive customers, i.e. the customers who never interacted with any of their accounts.\n",
    "\n",
    "_Note: "
   ]
  },
  {
   "cell_type": "code",
   "execution_count": 61,
   "metadata": {},
   "outputs": [
    {
     "data": {
      "text/plain": [
       "(224020,)"
      ]
     },
     "execution_count": 61,
     "metadata": {},
     "output_type": "execute_result"
    }
   ],
   "source": [
    "all_accounts = df.groupby('ncodpers').sum().sum(axis=1)\n",
    "all_accounts.loc[all_accounts==0].shape"
   ]
  },
  {
   "cell_type": "code",
   "execution_count": 62,
   "metadata": {},
   "outputs": [
    {
     "data": {
      "text/plain": [
       "(956645,)"
      ]
     },
     "execution_count": 62,
     "metadata": {},
     "output_type": "execute_result"
    }
   ],
   "source": [
    "all_accounts.shape"
   ]
  },
  {
   "cell_type": "code",
   "execution_count": null,
   "metadata": {},
   "outputs": [],
   "source": []
  }
 ],
 "metadata": {
  "kernelspec": {
   "display_name": "Python 3",
   "language": "python",
   "name": "python3"
  },
  "language_info": {
   "codemirror_mode": {
    "name": "ipython",
    "version": 3
   },
   "file_extension": ".py",
   "mimetype": "text/x-python",
   "name": "python",
   "nbconvert_exporter": "python",
   "pygments_lexer": "ipython3",
   "version": "3.7.4"
  },
  "toc": {
   "base_numbering": 1,
   "nav_menu": {},
   "number_sections": false,
   "sideBar": true,
   "skip_h1_title": false,
   "title_cell": "Table of Contents",
   "title_sidebar": "Contents",
   "toc_cell": false,
   "toc_position": {
    "height": "calc(100% - 180px)",
    "left": "10px",
    "top": "150px",
    "width": "251.206px"
   },
   "toc_section_display": true,
   "toc_window_display": true
  }
 },
 "nbformat": 4,
 "nbformat_minor": 2
}
