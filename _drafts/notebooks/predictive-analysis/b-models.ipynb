{
 "cells": [
  {
   "cell_type": "markdown",
   "metadata": {},
   "source": [
    "# I. Main ML Models\n",
    "\n",
    "There are two main categories: tree-based and non tree-based. Features preprocessing & features generation methods, covered in the following sections, depend on the model type.\n",
    "\n",
    "**Tree-based**\r\n",
    "\r\n",
    "Very powerful for tabular data, but not well-suited for linear dependencies because they require a lot of splits and can be inaccurate in near decision borders.\r\n",
    "- Decision Trees: use divide-and-conquer to recursively split the space into subspaces.\r\n",
    "- [Random Forests](https://www.datasciencecentral.com/profiles/blogs/random-forests-explained-intuitively).\r\n",
    "- [Gradient Boosting over Decision Trees](http://arogozhnikov.github.io/2016/06/24/gradient_boosting_explained.html).\r\n",
    "\r\n",
    "\r\n",
    "**Linear Models**\r\n",
    "\r\n",
    "Use planes to separate classes (each model uses different loss functions). Very good for sparse, high-dimensional data, but don't work well in no-linear situations.\r\n",
    "- Logistic Regression.\r\n",
    "- Support Vector Machines.\r\n",
    "\r\n",
    "Implementations include scikit-learn and wopal wabbit (designed to handle very large datasets).\r\n",
    "\r\n",
    "\r\n",
    "**Others**\r\n",
    "\r\n",
    "- [k-Nearest Neighbors](https://www.analyticsvidhya.com/blog/2018/03/introduction-k-neighbours-algorithm-clustering/).\r\n",
    "- Neural Networks\r\n",
    "\r\n",
    "\r\n",
    "**Overview**\r\n",
    "\r\n",
    "- Tree-based methods split the space into boxes and use constant predictions inside each box.\r\n",
    "- Linear models split the space into two subspaces separated by an hyperplane.\r\n",
    "- KNN make the assumption that objects close to one another are likely to have the same label and rely heavily on how to measure the distance between points.\r\n",
    "- Neural Network produce smooth non-linear decision boundaries."
   ]
  }
 ],
 "metadata": {
  "kernelspec": {
   "display_name": "Python 3.8.0 32-bit",
   "name": "python38032bit64a64ed7a47843b8be3706a54e9a0958"
  },
  "language_info": {
   "codemirror_mode": {
    "name": "ipython",
    "version": 3
   },
   "file_extension": ".py",
   "mimetype": "text/x-python",
   "name": "python",
   "nbconvert_exporter": "python",
   "pygments_lexer": "ipython3",
   "version": "3.8.0"
  },
  "orig_nbformat": 2
 },
 "nbformat": 4,
 "nbformat_minor": 2
}