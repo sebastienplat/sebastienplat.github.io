{
 "cells": [
  {
   "cell_type": "markdown",
   "metadata": {},
   "source": [
    "## Classification Error Rate"
   ]
  },
  {
   "cell_type": "markdown",
   "metadata": {},
   "source": [
    "The Bias-Variance tradeoff also applies to Classification problems, where the **Error Rate** is defined as follows:"
   ]
  },
  {
   "cell_type": "markdown",
   "metadata": {},
   "source": [
    "$$\\frac{1}{n} \\sum_{i=1}^n I(y_i \\neq  \\hat{y_i}).$$"
   ]
  },
  {
   "cell_type": "markdown",
   "metadata": {},
   "source": [
    "### Bayes Error Rate"
   ]
  },
  {
   "cell_type": "markdown",
   "metadata": {},
   "source": [
    "The Error Rate can be minimized by assigning each observation $x_0$ to its most likely class, given its predictor values $X_1, ..., X_p$: the **Bayes classifier**. It requires knowing the **Bayes decision boundary**, that indicates where the probability of each class is 50% for a given predictor value. \n",
    "\n",
    "The **Bayes error rate** is akin to the error term $\\epsilon$ in regression problems: it represents the noise in the data."
   ]
  },
  {
   "cell_type": "markdown",
   "metadata": {},
   "source": [
    "<img src=https://d2vlcm61l7u1fs.cloudfront.net/media%2F06f%2F06f3438f-37f3-4c03-8553-32ca946b5397%2FphpUAm7qf.png width=600px>"
   ]
  },
  {
   "cell_type": "markdown",
   "metadata": {},
   "source": [
    "### K-Nearest Neighbors"
   ]
  },
  {
   "cell_type": "markdown",
   "metadata": {},
   "source": [
    "For real data, we do not know the conditional distribution of $Y$ given $X$, and so computing the Bayes classifier is impossible. \n",
    "\n",
    "We can approximate the **Bayes Decision Boundary** by using the **K-Nearest Neighbors** classifier. For each test observation $x_0$, we:\n",
    "+ calculate the probability of each class as the fraction of the K-nearest training observations having that class.\n",
    "+ apply the Bayes rule to these probabilities."
   ]
  },
  {
   "cell_type": "markdown",
   "metadata": {},
   "source": [
    "The K-Nearest Neighbors classifier becomes less flexible as K increases (i.e. can capture less complex relationships):\n",
    "+ small K means low bias but high variance\n",
    "+ high K means high bias but low variance"
   ]
  },
  {
   "cell_type": "markdown",
   "metadata": {},
   "source": [
    "___\n",
    "\n",
    "## Support Vector Machine"
   ]
  },
  {
   "cell_type": "markdown",
   "metadata": {},
   "source": [
    "More information [here](https://medium.com/machine-learning-101/chapter-2-svm-support-vector-machine-theory-f0812effc72)."
   ]
  }
 ],
 "metadata": {
  "anaconda-cloud": {},
  "kernelspec": {
   "display_name": "Python 3",
   "language": "python",
   "name": "python3"
  },
  "language_info": {
   "codemirror_mode": {
    "name": "ipython",
    "version": 3
   },
   "file_extension": ".py",
   "mimetype": "text/x-python",
   "name": "python",
   "nbconvert_exporter": "python",
   "pygments_lexer": "ipython3",
   "version": "3.7.4"
  },
  "toc": {
   "base_numbering": 1,
   "nav_menu": {},
   "number_sections": false,
   "sideBar": true,
   "skip_h1_title": false,
   "title_cell": "Table of Contents",
   "title_sidebar": "Contents",
   "toc_cell": false,
   "toc_position": {
    "height": "calc(100% - 180px)",
    "left": "10px",
    "top": "150px",
    "width": "323px"
   },
   "toc_section_display": true,
   "toc_window_display": true
  }
 },
 "nbformat": 4,
 "nbformat_minor": 1
}
