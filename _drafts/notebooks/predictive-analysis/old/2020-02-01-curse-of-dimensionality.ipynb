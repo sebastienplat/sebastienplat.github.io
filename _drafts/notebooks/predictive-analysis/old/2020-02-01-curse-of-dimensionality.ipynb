{
 "cells": [
  {
   "cell_type": "markdown",
   "metadata": {},
   "source": [
    "# Definition"
   ]
  },
  {
   "cell_type": "markdown",
   "metadata": {},
   "source": [
    "> As the number of features or dimensions grows, the amount of data we need to generalize accurately grows exponentially."
   ]
  },
  {
   "cell_type": "markdown",
   "metadata": {},
   "source": [
    "When the dimensionality increases (often with hundreds or thousands of dimensions), the volume of the space increases so fast that the available **data become sparse**. This sparsity is problematic for any method that requires **statistical significance**. It also prevents efficient clustering, as all data points become equidistant from one another.\n",
    "\n",
    "In Machine Learning, an **enormous amount of training data** is required to ensure that there are **several samples** with each **combination of values**. A typical rule of thumb is that there should be **at least 5 training examples** for each dimension in the representation.\n",
    "\n",
    "With a **fixed number of training samples**, the **power** of a classifier or regressor **first increases** as number of dimensions/features used is increased but then decreases. This is known as Hughes phenomenon or peaking phenomena."
   ]
  },
  {
   "cell_type": "markdown",
   "metadata": {},
   "source": [
    "A few methods exist to reduce the dimentionality of a dataset:\n",
    "+ Principal Component Analysis\n",
    "+ Linear Discriminant Analysis\n",
    "\n",
    "A brief explanation of the difference between the two methods can be found [here](https://sebastianraschka.com/faq/docs/lda-vs-pca.html)."
   ]
  },
  {
   "cell_type": "markdown",
   "metadata": {},
   "source": [
    "___\n",
    "\n",
    "# Principal Component Analysis (PCA)"
   ]
  },
  {
   "cell_type": "markdown",
   "metadata": {},
   "source": [
    "### Definition"
   ]
  },
  {
   "cell_type": "markdown",
   "metadata": {},
   "source": [
    "\n",
    "**Principal Components Analysis (PCA)** creates a set of principal components that are:\n",
    "+ rank-ordered by variance (the first component accounts for as much of the variability in the data as possible).\n",
    "+ uncorrelated (to prevent [multicollinearity](https://en.wikipedia.org/wiki/Multicollinearity) issues).\n",
    "+ low in number (we can throw away the lower ranked components as they contain little signal).\n",
    "\n",
    "Each principal component is:\n",
    "+ a **linear combination** of the individual features. \n",
    "+ **orthogonal** to the previous principal components.\n"
   ]
  },
  {
   "cell_type": "markdown",
   "metadata": {},
   "source": [
    "### Limitations"
   ]
  },
  {
   "cell_type": "markdown",
   "metadata": {},
   "source": [
    "There are a few main limitations to PCA:\n",
    "+ We lose a lot of **interpretability**.\n",
    "+ It is concerned only with the **(co)variance** within the predictor matrix $x$. \n",
    "+ It assumes that the most important variables are the ones with **the most variation**.\n",
    "\n",
    "Dimension reduction by PCA can be harmful to predictions if $y$ only depends on predictors in $X$ that have a low (co)variance with other predictors.\n",
    "\n",
    "More details on limitations [here](https://towardsdatascience.com/pca-is-not-feature-selection-3344fb764ae6)."
   ]
  },
  {
   "cell_type": "markdown",
   "metadata": {},
   "source": [
    "> If the predictive relationship between the predictors and response is not connected to the predictors’ variability, then the derived PCs will not provide a suitable relationship with the response."
   ]
  },
  {
   "cell_type": "markdown",
   "metadata": {},
   "source": [
    "###  Mathematical Details"
   ]
  },
  {
   "cell_type": "markdown",
   "metadata": {},
   "source": [
    "The PCA is based on the [**covariance matrix**](https://en.wikipedia.org/wiki/Covariance_matrix) of the data that has been transformed to be centered around the origin (by subtracting the mean of each variable). The eigenvalues and corresponding eigenvectors are calculated and normalized.\n",
    "\n",
    "Zoom on these [terms](https://www.geeksforgeeks.org/principal-component-analysis-with-python/):\n",
    "+ eigenvectors: new set of axes of the principal component space.\n",
    "+ eigenvalues: quantity of variance that each eigenvector have.\n",
    "\n",
    "\n",
    "_Note: PCA is sensitive to the relative scale of your features. Using [`MinMaxScaler`](https://scikit-learn.org/stable/modules/generated/sklearn.preprocessing.MinMaxScaler.html) or [`StandardScaler`](https://scikit-learn.org/stable/modules/generated/sklearn.preprocessing.StandardScaler.html) from `scikit-learn`:_\n",
    "+ `MinMaxScaler` scales each observation to be a predefined range (typically 0 to 1).\n",
    "+ `StandardScaler` calculates the standard score Z of each observation.\n",
    "\n",
    "Complete examples can be found [here](https://www.geeksforgeeks.org/principal-component-analysis-with-python/) and [here](https://towardsdatascience.com/principal-component-analysis-for-dimensionality-reduction-115a3d157bad)."
   ]
  },
  {
   "cell_type": "markdown",
   "metadata": {},
   "source": [
    "___\n",
    "\n",
    "# Linear discriminant analysis (LDA) for Classification"
   ]
  },
  {
   "cell_type": "markdown",
   "metadata": {},
   "source": [
    "### Definition"
   ]
  },
  {
   "cell_type": "markdown",
   "metadata": {},
   "source": [
    "[**Linear discriminant analysis (LDA)**](https://www.geeksforgeeks.org/ml-linear-discriminant-analysis/) finds a linear combination of features that separates two or more classes of objects or events. \n",
    "\n",
    "It differs from ANOVA:\n",
    "+ LDA uses **continuous features** and a **categorical outcome**.\n",
    "+ ANOVA uses **categorical features** and a **continuous outcome**.\n"
   ]
  },
  {
   "cell_type": "markdown",
   "metadata": {},
   "source": [
    "### Limitations"
   ]
  },
  {
   "cell_type": "markdown",
   "metadata": {},
   "source": [
    "LDA assumptions are the same as for linear regression:\n",
    "+ Normality.\n",
    "+ Homogeneity of variance (homoscedasticity vs heteroscedasticity).\n",
    "+ Independent observations.\n",
    "\n",
    "It is very similar to logistic regression, but its more stringent sets of hypothesis means it is rarely used today."
   ]
  },
  {
   "cell_type": "markdown",
   "metadata": {},
   "source": [
    "### Mathematical Details"
   ]
  },
  {
   "cell_type": "markdown",
   "metadata": {},
   "source": [
    "Discriminant analysis works by creating one or more linear combinations of predictors, creating a new **latent variable** for each discriminant function. LDA explicitly attempts to model the **difference between the classes** of data: it  uses information of classes to find new features in order to maximize **its separability**.\n"
   ]
  },
  {
   "cell_type": "markdown",
   "metadata": {},
   "source": [
    "Two criteria are used by LDA to create a new axis:\n",
    "\n",
    "+ Maximize the distance between means of the two classes.\n",
    "+ Minimize the variation within each class."
   ]
  },
  {
   "cell_type": "markdown",
   "metadata": {},
   "source": [
    "### Generalization"
   ]
  },
  {
   "cell_type": "markdown",
   "metadata": {},
   "source": [
    "+ **Quadratic Discriminant Analysis (QDA)**: Each class uses its own estimate of variance (or covariance when there are multiple input variables).\n",
    "+ **Flexible Discriminant Analysis (FDA)**: Where non-linear combinations of inputs is used such as splines.\n",
    "+ **Regularized Discriminant Analysis (RDA)**: Introduces regularization into the estimate of the variance (actually covariance), moderating the influence of different variables on LDA."
   ]
  },
  {
   "cell_type": "markdown",
   "metadata": {},
   "source": [
    "### Applications"
   ]
  },
  {
   "cell_type": "markdown",
   "metadata": {},
   "source": [
    "+ **Face Recognition**: In the field of Computer Vision, face recognition is a very popular application in which each face is represented by a very large number of pixel values. Linear discriminant analysis (LDA) is used here to reduce the number of features to a more manageable number before the process of classification. Each of the new dimensions generated is a linear combination of pixel values, which form a template. The linear combinations obtained using Fisher’s linear discriminant are called Fisher faces.\n",
    "\n",
    "+ **Medical**: In this field, Linear discriminant analysis (LDA) is used to classify the patient disease state as mild, moderate or severe based upon the patient various parameters and the medical treatment he is going through. This helps the doctors to intensify or reduce the pace of their treatment.\n",
    "\n",
    "+ **Customer Identification**: Suppose we want to identify the type of customers which are most likely to buy a particular product in a shopping mall. By doing a simple question and answers survey, we can gather all the features of the customers. Here, Linear discriminant analysis will help us to identify and select the features which can describe the characteristics of the group of customers that are most likely to buy that particular product in the shopping mall."
   ]
  },
  {
   "cell_type": "code",
   "execution_count": null,
   "metadata": {},
   "outputs": [],
   "source": []
  }
 ],
 "metadata": {
  "anaconda-cloud": {},
  "kernelspec": {
   "display_name": "Python 3",
   "language": "python",
   "name": "python3"
  },
  "language_info": {
   "codemirror_mode": {
    "name": "ipython",
    "version": 3
   },
   "file_extension": ".py",
   "mimetype": "text/x-python",
   "name": "python",
   "nbconvert_exporter": "python",
   "pygments_lexer": "ipython3",
   "version": "3.7.4"
  },
  "toc": {
   "base_numbering": 1,
   "nav_menu": {},
   "number_sections": false,
   "sideBar": true,
   "skip_h1_title": false,
   "title_cell": "Table of Contents",
   "title_sidebar": "Contents",
   "toc_cell": false,
   "toc_position": {
    "height": "calc(100% - 180px)",
    "left": "10px",
    "top": "150px",
    "width": "323px"
   },
   "toc_section_display": true,
   "toc_window_display": true
  }
 },
 "nbformat": 4,
 "nbformat_minor": 1
}
